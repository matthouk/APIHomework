{
 "cells": [
  {
   "cell_type": "markdown",
   "metadata": {},
   "source": [
    "# Unit 5 - Financial Planning\n"
   ]
  },
  {
   "cell_type": "code",
   "execution_count": 1,
   "metadata": {},
   "outputs": [],
   "source": [
    "# Initial imports\n",
    "import os\n",
    "import requests\n",
    "import pandas as pd\n",
    "import json\n",
    "from dotenv import load_dotenv\n",
    "import alpaca_trade_api as tradeapi\n",
    "from MCForecastTools import MCSimulation\n",
    "\n",
    "%matplotlib inline"
   ]
  },
  {
   "cell_type": "code",
   "execution_count": 2,
   "metadata": {},
   "outputs": [
    {
     "data": {
      "text/plain": [
       "True"
      ]
     },
     "execution_count": 2,
     "metadata": {},
     "output_type": "execute_result"
    }
   ],
   "source": [
    "# Load .env enviroment variables\n",
    "load_dotenv()"
   ]
  },
  {
   "cell_type": "markdown",
   "metadata": {},
   "source": [
    "## Part 1 - Personal Finance Planner"
   ]
  },
  {
   "cell_type": "markdown",
   "metadata": {},
   "source": [
    "### Collect Crypto Prices Using the `requests` Library"
   ]
  },
  {
   "cell_type": "code",
   "execution_count": 3,
   "metadata": {},
   "outputs": [],
   "source": [
    "# Set current amount of crypto assets\n",
    "# Bitcoin and Ethereum variables, respectively \n",
    "\n",
    "my_btc = 1.2\n",
    "my_eth = 5.3 "
   ]
  },
  {
   "cell_type": "code",
   "execution_count": 4,
   "metadata": {},
   "outputs": [],
   "source": [
    "# Crypto API URLs\n",
    "btc_url = \"https://api.alternative.me/v2/ticker/Bitcoin/?convert=CAD\"\n",
    "eth_url = \"https://api.alternative.me/v2/ticker/Ethereum/?convert=CAD\""
   ]
  },
  {
   "cell_type": "code",
   "execution_count": 5,
   "metadata": {},
   "outputs": [
    {
     "name": "stdout",
     "output_type": "stream",
     "text": [
      "BTC Price: 28858.0\n",
      "ETH Price 748.98\n"
     ]
    }
   ],
   "source": [
    "# Test cell to view responses and verify data,etc \n",
    "# use requests lib and set the data as a json \n",
    "responsebtc = requests.get(btc_url)\n",
    "btcdata = responsebtc.json()\n",
    "btc_pricetest = btcdata['data']['1']['quotes']['USD']['price']\n",
    "btc_pricetest\n",
    "# Fetch current ETH price\n",
    "\n",
    "responseeth = requests.get(eth_url)\n",
    "ethdata = responseeth.json()\n",
    "eth_pricetest = ethdata['data']['1027']['quotes']['USD']['price']\n",
    "eth_pricetest\n",
    "\n",
    "# View it so I know what I am looking for to pull out the price. \n",
    "# BTC Test \n",
    "# print(json.dumps(btcdata, indent=4))\n",
    "print(f'BTC Price: {btc_pricetest}')\n",
    "\n",
    "\n",
    "# ETH Test\n",
    "# print(json.dumps(ethdata, indent=4))\n",
    "print(f'ETH Price {eth_pricetest}')\n",
    "\n"
   ]
  },
  {
   "cell_type": "code",
   "execution_count": 6,
   "metadata": {},
   "outputs": [
    {
     "name": "stdout",
     "output_type": "stream",
     "text": [
      "The current value of your 1.2 BTC is $34629.60\n",
      "The current value of your 5.3 ETH is $3969.59\n"
     ]
    }
   ],
   "source": [
    "# Fetch current BTC price\n",
    "# YOUR CODE HERE!\n",
    "responsebtc = requests.get(btc_url)\n",
    "btcdata = responsebtc.json()\n",
    "btc_price = btcdata['data']['1']['quotes']['USD']['price']\n",
    "btc_price\n",
    "# Fetch current ETH price\n",
    "# YOUR CODE HERE!]\n",
    "responseeth = requests.get(eth_url)\n",
    "ethdata = responseeth.json()\n",
    "eth_price = ethdata['data']['1027']['quotes']['USD']['price']\n",
    "eth_price\n",
    "# Compute current value of my crpto\n",
    "# YOUR CODE HERE!\n",
    "my_btc_value = (my_btc * btc_price)\n",
    "my_eth_value = (my_eth * eth_price)\n",
    "\n",
    "\n",
    "# Print current crypto wallet balance\n",
    "print(f\"The current value of your {my_btc} BTC is ${my_btc_value:0.2f}\")\n",
    "print(f\"The current value of your {my_eth} ETH is ${my_eth_value:0.2f}\")"
   ]
  },
  {
   "cell_type": "markdown",
   "metadata": {},
   "source": [
    "### Collect Investments Data Using Alpaca: `SPY` (stocks) and `AGG` (bonds)"
   ]
  },
  {
   "cell_type": "code",
   "execution_count": 7,
   "metadata": {},
   "outputs": [],
   "source": [
    "# Current amount of shares\n",
    "# YOUR CODE HERE!\n",
    "\n",
    "my_agg = 200 \n",
    "my_spy = 50 \n"
   ]
  },
  {
   "cell_type": "code",
   "execution_count": 8,
   "metadata": {},
   "outputs": [],
   "source": [
    "# Set Alpaca API key and secret\n",
    "# YOUR CODE HERE!\n",
    "alpaca_api_key = os.getenv(\"ALPACA_API_KEY\")\n",
    "alpaca_secret_key = os.getenv(\"ALPACA_SECRET_KEY\")\n",
    "\n",
    "# Testing.. \n",
    "# type(alpaca_api_key)\n",
    "# type(alpaca_secret_key)"
   ]
  },
  {
   "cell_type": "code",
   "execution_count": 9,
   "metadata": {},
   "outputs": [],
   "source": [
    "# Create the Alpaca API object\n",
    "# YOUR CODE HERE!\n",
    "\n",
    "api = tradeapi.REST(\n",
    "    alpaca_api_key,\n",
    "    alpaca_secret_key,\n",
    "    api_version = \"v2\"\n",
    ")"
   ]
  },
  {
   "cell_type": "code",
   "execution_count": 10,
   "metadata": {},
   "outputs": [
    {
     "data": {
      "text/html": [
       "<div>\n",
       "<style scoped>\n",
       "    .dataframe tbody tr th:only-of-type {\n",
       "        vertical-align: middle;\n",
       "    }\n",
       "\n",
       "    .dataframe tbody tr th {\n",
       "        vertical-align: top;\n",
       "    }\n",
       "\n",
       "    .dataframe thead tr th {\n",
       "        text-align: left;\n",
       "    }\n",
       "\n",
       "    .dataframe thead tr:last-of-type th {\n",
       "        text-align: right;\n",
       "    }\n",
       "</style>\n",
       "<table border=\"1\" class=\"dataframe\">\n",
       "  <thead>\n",
       "    <tr>\n",
       "      <th></th>\n",
       "      <th colspan=\"5\" halign=\"left\">AGG</th>\n",
       "      <th colspan=\"5\" halign=\"left\">SPY</th>\n",
       "    </tr>\n",
       "    <tr>\n",
       "      <th></th>\n",
       "      <th>open</th>\n",
       "      <th>high</th>\n",
       "      <th>low</th>\n",
       "      <th>close</th>\n",
       "      <th>volume</th>\n",
       "      <th>open</th>\n",
       "      <th>high</th>\n",
       "      <th>low</th>\n",
       "      <th>close</th>\n",
       "      <th>volume</th>\n",
       "    </tr>\n",
       "    <tr>\n",
       "      <th>time</th>\n",
       "      <th></th>\n",
       "      <th></th>\n",
       "      <th></th>\n",
       "      <th></th>\n",
       "      <th></th>\n",
       "      <th></th>\n",
       "      <th></th>\n",
       "      <th></th>\n",
       "      <th></th>\n",
       "      <th></th>\n",
       "    </tr>\n",
       "  </thead>\n",
       "  <tbody>\n",
       "    <tr>\n",
       "      <th>2020-12-30 00:00:00-05:00</th>\n",
       "      <td>118.09</td>\n",
       "      <td>118.12</td>\n",
       "      <td>117.9815</td>\n",
       "      <td>118.1</td>\n",
       "      <td>2593714</td>\n",
       "      <td>372.34</td>\n",
       "      <td>373.1</td>\n",
       "      <td>371.57</td>\n",
       "      <td>371.93</td>\n",
       "      <td>40295732</td>\n",
       "    </tr>\n",
       "  </tbody>\n",
       "</table>\n",
       "</div>"
      ],
      "text/plain": [
       "                              AGG                                       SPY  \\\n",
       "                             open    high       low  close   volume    open   \n",
       "time                                                                          \n",
       "2020-12-30 00:00:00-05:00  118.09  118.12  117.9815  118.1  2593714  372.34   \n",
       "\n",
       "                                                            \n",
       "                            high     low   close    volume  \n",
       "time                                                        \n",
       "2020-12-30 00:00:00-05:00  373.1  371.57  371.93  40295732  "
      ]
     },
     "execution_count": 10,
     "metadata": {},
     "output_type": "execute_result"
    }
   ],
   "source": [
    "# Format current date as ISO format\n",
    "# YOUR CODE HERE!\n",
    "\n",
    "# Set the tickers\n",
    "tickers = [\"AGG\", \"SPY\"]\n",
    "\n",
    "# Set timeframe to '1D' for Alpaca API\n",
    "timeframe = \"1D\"\n",
    "\n",
    "# Get data for both stocks \n",
    "\n",
    "# Set start and end datetimes for today\n",
    "start_date = pd.Timestamp(\"2020-12-30\", tz=\"America/New_York\").isoformat()\n",
    "end_date = pd.Timestamp(\"2020-12-30\", tz=\"America/New_York\").isoformat()\n",
    "\n",
    "todaysdata = api.get_barset(\n",
    "    tickers,\n",
    "    timeframe,\n",
    "    start=start_date,\n",
    "    end=end_date\n",
    ").df\n",
    "\n",
    "\n",
    "# Preview DataFrame\n",
    "todaysdata.head()"
   ]
  },
  {
   "cell_type": "code",
   "execution_count": 11,
   "metadata": {},
   "outputs": [
    {
     "data": {
      "text/html": [
       "<div>\n",
       "<style scoped>\n",
       "    .dataframe tbody tr th:only-of-type {\n",
       "        vertical-align: middle;\n",
       "    }\n",
       "\n",
       "    .dataframe tbody tr th {\n",
       "        vertical-align: top;\n",
       "    }\n",
       "\n",
       "    .dataframe thead th {\n",
       "        text-align: right;\n",
       "    }\n",
       "</style>\n",
       "<table border=\"1\" class=\"dataframe\">\n",
       "  <thead>\n",
       "    <tr style=\"text-align: right;\">\n",
       "      <th></th>\n",
       "      <th>AGG</th>\n",
       "      <th>SPY</th>\n",
       "    </tr>\n",
       "  </thead>\n",
       "  <tbody>\n",
       "    <tr>\n",
       "      <th>2020-12-30</th>\n",
       "      <td>118.1</td>\n",
       "      <td>371.93</td>\n",
       "    </tr>\n",
       "  </tbody>\n",
       "</table>\n",
       "</div>"
      ],
      "text/plain": [
       "              AGG     SPY\n",
       "2020-12-30  118.1  371.93"
      ]
     },
     "execution_count": 11,
     "metadata": {},
     "output_type": "execute_result"
    }
   ],
   "source": [
    "# Set new DF and get closing prices \n",
    "closingprice = pd.DataFrame()\n",
    "\n",
    "for ticker in tickers:\n",
    "    closingprice[ticker] = todaysdata[ticker]['close']\n",
    "\n",
    "# Drop the time component of the date\n",
    "closingprice.index = closingprice.index.date\n",
    "\n",
    "# show it\n",
    "closingprice.head()\n"
   ]
  },
  {
   "cell_type": "code",
   "execution_count": 12,
   "metadata": {},
   "outputs": [
    {
     "name": "stdout",
     "output_type": "stream",
     "text": [
      "Current AGG closing price: $118.1\n",
      "Current SPY closing price: $371.93\n"
     ]
    }
   ],
   "source": [
    "# Pick AGG and SPY close prices\n",
    "agg_close_price = closingprice.iloc[0][0]\n",
    "spy_close_price = closingprice.iloc[0][1]\n",
    "# Print AGG and SPY close prices\n",
    "print(f\"Current AGG closing price: ${agg_close_price}\")\n",
    "print(f\"Current SPY closing price: ${spy_close_price}\")"
   ]
  },
  {
   "cell_type": "code",
   "execution_count": 13,
   "metadata": {},
   "outputs": [
    {
     "name": "stdout",
     "output_type": "stream",
     "text": [
      "The current value of your 200 AGG shares is $23620.00\n",
      "The current value of your 50 SPY shares is $18596.50\n"
     ]
    }
   ],
   "source": [
    "# Compute the current value of shares\n",
    "# YOUR CODE HERE!\n",
    "my_agg_value = (my_agg * agg_close_price)\n",
    "my_spy_value = (my_spy * spy_close_price)\n",
    "\n",
    "# Print current value of share\n",
    "print(f\"The current value of your {my_agg} AGG shares is ${my_agg_value:0.2f}\")\n",
    "print(f\"The current value of your {my_spy} SPY shares is ${my_spy_value:0.2f}\")"
   ]
  },
  {
   "cell_type": "markdown",
   "metadata": {},
   "source": [
    "### Savings Health Analysis"
   ]
  },
  {
   "cell_type": "code",
   "execution_count": 14,
   "metadata": {},
   "outputs": [
    {
     "name": "stdout",
     "output_type": "stream",
     "text": [
      "total crypto = 38599.193999999996 and total shares = 42216.5\n"
     ]
    }
   ],
   "source": [
    "# Set combined values: \n",
    "cryptoval = my_btc_value + my_eth_value \n",
    "sharesval = my_agg_value + my_spy_value\n",
    "\n",
    "print(f'total crypto = {cryptoval} and total shares = {sharesval}')"
   ]
  },
  {
   "cell_type": "code",
   "execution_count": 15,
   "metadata": {},
   "outputs": [
    {
     "data": {
      "text/html": [
       "<div>\n",
       "<style scoped>\n",
       "    .dataframe tbody tr th:only-of-type {\n",
       "        vertical-align: middle;\n",
       "    }\n",
       "\n",
       "    .dataframe tbody tr th {\n",
       "        vertical-align: top;\n",
       "    }\n",
       "\n",
       "    .dataframe thead th {\n",
       "        text-align: right;\n",
       "    }\n",
       "</style>\n",
       "<table border=\"1\" class=\"dataframe\">\n",
       "  <thead>\n",
       "    <tr style=\"text-align: right;\">\n",
       "      <th></th>\n",
       "      <th>amount</th>\n",
       "    </tr>\n",
       "  </thead>\n",
       "  <tbody>\n",
       "    <tr>\n",
       "      <th>crypto</th>\n",
       "      <td>38599.194</td>\n",
       "    </tr>\n",
       "    <tr>\n",
       "      <th>shares</th>\n",
       "      <td>42216.500</td>\n",
       "    </tr>\n",
       "  </tbody>\n",
       "</table>\n",
       "</div>"
      ],
      "text/plain": [
       "           amount\n",
       "crypto  38599.194\n",
       "shares  42216.500"
      ]
     },
     "metadata": {},
     "output_type": "display_data"
    }
   ],
   "source": [
    "# Set monthly household income\n",
    "monthly_income = 12000\n",
    "\n",
    "# Create savings DataFrame\n",
    "\n",
    "data = {'amount' : [cryptoval, sharesval]} \n",
    "df_savings = pd.DataFrame(data=data, index=['crypto', 'shares'])\n",
    "\n",
    "\n",
    "# Display savings DataFrame\n",
    "display(df_savings)"
   ]
  },
  {
   "cell_type": "code",
   "execution_count": 16,
   "metadata": {},
   "outputs": [
    {
     "data": {
      "text/plain": [
       "array([<AxesSubplot:ylabel='amount'>], dtype=object)"
      ]
     },
     "execution_count": 16,
     "metadata": {},
     "output_type": "execute_result"
    },
    {
     "data": {
      "image/png": "[encoded data removed]",
      "text/plain": [
       "<Figure size 432x288 with 1 Axes>"
      ]
     },
     "metadata": {},
     "output_type": "display_data"
    }
   ],
   "source": [
    "# Plot savings pie chart\n",
    "df_savings.plot.pie(subplots=True)"
   ]
  },
  {
   "cell_type": "code",
   "execution_count": 17,
   "metadata": {},
   "outputs": [
    {
     "name": "stdout",
     "output_type": "stream",
     "text": [
      "Congrats, you have enough money for emergencies\n"
     ]
    }
   ],
   "source": [
    "# Set ideal emergency fund\n",
    "emergency_fund = monthly_income * 3\n",
    "\n",
    "# Calculate total amount of savings\n",
    "# Do the maths and if statements \n",
    "total_savings = (cryptoval + sharesval)\n",
    "# print(total_savings)\n",
    "# print(emergency_fund)\n",
    "\n",
    "\n",
    "if total_savings > emergency_fund : \n",
    "    print(\"Congrats, you have enough money for emergencies\")\n",
    "elif total_savings == emergency_fund:\n",
    "    print(\"You have finally saved enough for an emergency. Great work\")\n",
    "elif total_savings < emergency_fund: \n",
    "    amt_remaining = emergency_fund - total_savings\n",
    "    print(f'${amt_remaining} left to save for an emergency')\n"
   ]
  },
  {
   "cell_type": "markdown",
   "metadata": {},
   "source": [
    "## Part 2 - Retirement Planning\n",
    "\n",
    "### Monte Carlo Simulation"
   ]
  },
  {
   "cell_type": "code",
   "execution_count": 18,
   "metadata": {},
   "outputs": [],
   "source": [
    "# Set start and end dates of five years back from today.\n",
    "# Sample results may vary from the solution based on the time frame chosen\n",
    "start_date = pd.Timestamp('2015-12-20', tz='America/New_York').isoformat()\n",
    "end_date = pd.Timestamp('2020-12-20', tz='America/New_York').isoformat()"
   ]
  },
  {
   "cell_type": "code",
   "execution_count": 19,
   "metadata": {},
   "outputs": [
    {
     "data": {
      "text/html": [
       "<div>\n",
       "<style scoped>\n",
       "    .dataframe tbody tr th:only-of-type {\n",
       "        vertical-align: middle;\n",
       "    }\n",
       "\n",
       "    .dataframe tbody tr th {\n",
       "        vertical-align: top;\n",
       "    }\n",
       "\n",
       "    .dataframe thead tr th {\n",
       "        text-align: left;\n",
       "    }\n",
       "\n",
       "    .dataframe thead tr:last-of-type th {\n",
       "        text-align: right;\n",
       "    }\n",
       "</style>\n",
       "<table border=\"1\" class=\"dataframe\">\n",
       "  <thead>\n",
       "    <tr>\n",
       "      <th></th>\n",
       "      <th colspan=\"5\" halign=\"left\">AGG</th>\n",
       "      <th colspan=\"5\" halign=\"left\">SPY</th>\n",
       "    </tr>\n",
       "    <tr>\n",
       "      <th></th>\n",
       "      <th>open</th>\n",
       "      <th>high</th>\n",
       "      <th>low</th>\n",
       "      <th>close</th>\n",
       "      <th>volume</th>\n",
       "      <th>open</th>\n",
       "      <th>high</th>\n",
       "      <th>low</th>\n",
       "      <th>close</th>\n",
       "      <th>volume</th>\n",
       "    </tr>\n",
       "    <tr>\n",
       "      <th>time</th>\n",
       "      <th></th>\n",
       "      <th></th>\n",
       "      <th></th>\n",
       "      <th></th>\n",
       "      <th></th>\n",
       "      <th></th>\n",
       "      <th></th>\n",
       "      <th></th>\n",
       "      <th></th>\n",
       "      <th></th>\n",
       "    </tr>\n",
       "  </thead>\n",
       "  <tbody>\n",
       "    <tr>\n",
       "      <th>2015-12-21 00:00:00-05:00</th>\n",
       "      <td>108.49</td>\n",
       "      <td>108.54</td>\n",
       "      <td>108.24</td>\n",
       "      <td>108.29</td>\n",
       "      <td>2713944</td>\n",
       "      <td>201.43</td>\n",
       "      <td>201.88</td>\n",
       "      <td>200.09</td>\n",
       "      <td>201.65</td>\n",
       "      <td>80958257</td>\n",
       "    </tr>\n",
       "    <tr>\n",
       "      <th>2015-12-22 00:00:00-05:00</th>\n",
       "      <td>108.27</td>\n",
       "      <td>108.28</td>\n",
       "      <td>108.12</td>\n",
       "      <td>108.19</td>\n",
       "      <td>4323053</td>\n",
       "      <td>202.72</td>\n",
       "      <td>203.85</td>\n",
       "      <td>201.55</td>\n",
       "      <td>203.51</td>\n",
       "      <td>84529093</td>\n",
       "    </tr>\n",
       "    <tr>\n",
       "      <th>2015-12-23 00:00:00-05:00</th>\n",
       "      <td>108.01</td>\n",
       "      <td>108.19</td>\n",
       "      <td>108.00</td>\n",
       "      <td>108.18</td>\n",
       "      <td>3399409</td>\n",
       "      <td>204.71</td>\n",
       "      <td>206.07</td>\n",
       "      <td>204.58</td>\n",
       "      <td>206.02</td>\n",
       "      <td>79877884</td>\n",
       "    </tr>\n",
       "    <tr>\n",
       "      <th>2015-12-24 00:00:00-05:00</th>\n",
       "      <td>107.95</td>\n",
       "      <td>108.05</td>\n",
       "      <td>107.92</td>\n",
       "      <td>108.01</td>\n",
       "      <td>1151867</td>\n",
       "      <td>205.72</td>\n",
       "      <td>206.33</td>\n",
       "      <td>205.42</td>\n",
       "      <td>205.57</td>\n",
       "      <td>31975061</td>\n",
       "    </tr>\n",
       "    <tr>\n",
       "      <th>2015-12-28 00:00:00-05:00</th>\n",
       "      <td>108.03</td>\n",
       "      <td>108.13</td>\n",
       "      <td>107.99</td>\n",
       "      <td>108.02</td>\n",
       "      <td>2446828</td>\n",
       "      <td>204.86</td>\n",
       "      <td>205.26</td>\n",
       "      <td>203.94</td>\n",
       "      <td>205.19</td>\n",
       "      <td>50363129</td>\n",
       "    </tr>\n",
       "  </tbody>\n",
       "</table>\n",
       "</div>"
      ],
      "text/plain": [
       "                              AGG                                      SPY  \\\n",
       "                             open    high     low   close   volume    open   \n",
       "time                                                                         \n",
       "2015-12-21 00:00:00-05:00  108.49  108.54  108.24  108.29  2713944  201.43   \n",
       "2015-12-22 00:00:00-05:00  108.27  108.28  108.12  108.19  4323053  202.72   \n",
       "2015-12-23 00:00:00-05:00  108.01  108.19  108.00  108.18  3399409  204.71   \n",
       "2015-12-24 00:00:00-05:00  107.95  108.05  107.92  108.01  1151867  205.72   \n",
       "2015-12-28 00:00:00-05:00  108.03  108.13  107.99  108.02  2446828  204.86   \n",
       "\n",
       "                                                             \n",
       "                             high     low   close    volume  \n",
       "time                                                         \n",
       "2015-12-21 00:00:00-05:00  201.88  200.09  201.65  80958257  \n",
       "2015-12-22 00:00:00-05:00  203.85  201.55  203.51  84529093  \n",
       "2015-12-23 00:00:00-05:00  206.07  204.58  206.02  79877884  \n",
       "2015-12-24 00:00:00-05:00  206.33  205.42  205.57  31975061  \n",
       "2015-12-28 00:00:00-05:00  205.26  203.94  205.19  50363129  "
      ]
     },
     "execution_count": 19,
     "metadata": {},
     "output_type": "execute_result"
    }
   ],
   "source": [
    "# Get 5 years' worth of historical data for SPY and AGG\n",
    "\n",
    "df_stock_data = api.get_barset(\n",
    "    tickers,\n",
    "    timeframe,\n",
    "    start=start_date,\n",
    "    end=end_date\n",
    ").df\n",
    "\n",
    "\n",
    "\n",
    "# Display sample data\n",
    "df_stock_data.head()"
   ]
  },
  {
   "cell_type": "code",
   "execution_count": 20,
   "metadata": {},
   "outputs": [],
   "source": [
    "# Configuring a Monte Carlo simulation to forecast 30 years cumulative returns\n",
    "\n",
    "MC_Retirement = MCSimulation(\n",
    "    portfolio_data = df_stock_data,\n",
    "    weights = [.40, .60],\n",
    "    num_simulation = 500,\n",
    "    num_trading_days = 252*30\n",
    ")"
   ]
  },
  {
   "cell_type": "code",
   "execution_count": 21,
   "metadata": {},
   "outputs": [
    {
     "data": {
      "text/html": [
       "<div>\n",
       "<style scoped>\n",
       "    .dataframe tbody tr th:only-of-type {\n",
       "        vertical-align: middle;\n",
       "    }\n",
       "\n",
       "    .dataframe tbody tr th {\n",
       "        vertical-align: top;\n",
       "    }\n",
       "\n",
       "    .dataframe thead tr th {\n",
       "        text-align: left;\n",
       "    }\n",
       "\n",
       "    .dataframe thead tr:last-of-type th {\n",
       "        text-align: right;\n",
       "    }\n",
       "</style>\n",
       "<table border=\"1\" class=\"dataframe\">\n",
       "  <thead>\n",
       "    <tr>\n",
       "      <th></th>\n",
       "      <th colspan=\"6\" halign=\"left\">AGG</th>\n",
       "      <th colspan=\"6\" halign=\"left\">SPY</th>\n",
       "    </tr>\n",
       "    <tr>\n",
       "      <th></th>\n",
       "      <th>open</th>\n",
       "      <th>high</th>\n",
       "      <th>low</th>\n",
       "      <th>close</th>\n",
       "      <th>volume</th>\n",
       "      <th>daily_return</th>\n",
       "      <th>open</th>\n",
       "      <th>high</th>\n",
       "      <th>low</th>\n",
       "      <th>close</th>\n",
       "      <th>volume</th>\n",
       "      <th>daily_return</th>\n",
       "    </tr>\n",
       "    <tr>\n",
       "      <th>time</th>\n",
       "      <th></th>\n",
       "      <th></th>\n",
       "      <th></th>\n",
       "      <th></th>\n",
       "      <th></th>\n",
       "      <th></th>\n",
       "      <th></th>\n",
       "      <th></th>\n",
       "      <th></th>\n",
       "      <th></th>\n",
       "      <th></th>\n",
       "      <th></th>\n",
       "    </tr>\n",
       "  </thead>\n",
       "  <tbody>\n",
       "    <tr>\n",
       "      <th>2015-12-21 00:00:00-05:00</th>\n",
       "      <td>108.49</td>\n",
       "      <td>108.54</td>\n",
       "      <td>108.24</td>\n",
       "      <td>108.29</td>\n",
       "      <td>2713944</td>\n",
       "      <td>NaN</td>\n",
       "      <td>201.43</td>\n",
       "      <td>201.88</td>\n",
       "      <td>200.09</td>\n",
       "      <td>201.65</td>\n",
       "      <td>80958257</td>\n",
       "      <td>NaN</td>\n",
       "    </tr>\n",
       "    <tr>\n",
       "      <th>2015-12-22 00:00:00-05:00</th>\n",
       "      <td>108.27</td>\n",
       "      <td>108.28</td>\n",
       "      <td>108.12</td>\n",
       "      <td>108.19</td>\n",
       "      <td>4323053</td>\n",
       "      <td>-0.000923</td>\n",
       "      <td>202.72</td>\n",
       "      <td>203.85</td>\n",
       "      <td>201.55</td>\n",
       "      <td>203.51</td>\n",
       "      <td>84529093</td>\n",
       "      <td>0.009224</td>\n",
       "    </tr>\n",
       "    <tr>\n",
       "      <th>2015-12-23 00:00:00-05:00</th>\n",
       "      <td>108.01</td>\n",
       "      <td>108.19</td>\n",
       "      <td>108.00</td>\n",
       "      <td>108.18</td>\n",
       "      <td>3399409</td>\n",
       "      <td>-0.000092</td>\n",
       "      <td>204.71</td>\n",
       "      <td>206.07</td>\n",
       "      <td>204.58</td>\n",
       "      <td>206.02</td>\n",
       "      <td>79877884</td>\n",
       "      <td>0.012334</td>\n",
       "    </tr>\n",
       "    <tr>\n",
       "      <th>2015-12-24 00:00:00-05:00</th>\n",
       "      <td>107.95</td>\n",
       "      <td>108.05</td>\n",
       "      <td>107.92</td>\n",
       "      <td>108.01</td>\n",
       "      <td>1151867</td>\n",
       "      <td>-0.001571</td>\n",
       "      <td>205.72</td>\n",
       "      <td>206.33</td>\n",
       "      <td>205.42</td>\n",
       "      <td>205.57</td>\n",
       "      <td>31975061</td>\n",
       "      <td>-0.002184</td>\n",
       "    </tr>\n",
       "    <tr>\n",
       "      <th>2015-12-28 00:00:00-05:00</th>\n",
       "      <td>108.03</td>\n",
       "      <td>108.13</td>\n",
       "      <td>107.99</td>\n",
       "      <td>108.02</td>\n",
       "      <td>2446828</td>\n",
       "      <td>0.000093</td>\n",
       "      <td>204.86</td>\n",
       "      <td>205.26</td>\n",
       "      <td>203.94</td>\n",
       "      <td>205.19</td>\n",
       "      <td>50363129</td>\n",
       "      <td>-0.001849</td>\n",
       "    </tr>\n",
       "  </tbody>\n",
       "</table>\n",
       "</div>"
      ],
      "text/plain": [
       "                              AGG                                   \\\n",
       "                             open    high     low   close   volume   \n",
       "time                                                                 \n",
       "2015-12-21 00:00:00-05:00  108.49  108.54  108.24  108.29  2713944   \n",
       "2015-12-22 00:00:00-05:00  108.27  108.28  108.12  108.19  4323053   \n",
       "2015-12-23 00:00:00-05:00  108.01  108.19  108.00  108.18  3399409   \n",
       "2015-12-24 00:00:00-05:00  107.95  108.05  107.92  108.01  1151867   \n",
       "2015-12-28 00:00:00-05:00  108.03  108.13  107.99  108.02  2446828   \n",
       "\n",
       "                                           SPY                          \\\n",
       "                          daily_return    open    high     low   close   \n",
       "time                                                                     \n",
       "2015-12-21 00:00:00-05:00          NaN  201.43  201.88  200.09  201.65   \n",
       "2015-12-22 00:00:00-05:00    -0.000923  202.72  203.85  201.55  203.51   \n",
       "2015-12-23 00:00:00-05:00    -0.000092  204.71  206.07  204.58  206.02   \n",
       "2015-12-24 00:00:00-05:00    -0.001571  205.72  206.33  205.42  205.57   \n",
       "2015-12-28 00:00:00-05:00     0.000093  204.86  205.26  203.94  205.19   \n",
       "\n",
       "                                                  \n",
       "                             volume daily_return  \n",
       "time                                              \n",
       "2015-12-21 00:00:00-05:00  80958257          NaN  \n",
       "2015-12-22 00:00:00-05:00  84529093     0.009224  \n",
       "2015-12-23 00:00:00-05:00  79877884     0.012334  \n",
       "2015-12-24 00:00:00-05:00  31975061    -0.002184  \n",
       "2015-12-28 00:00:00-05:00  50363129    -0.001849  "
      ]
     },
     "execution_count": 21,
     "metadata": {},
     "output_type": "execute_result"
    }
   ],
   "source": [
    "# Printing the simulation input data\n",
    "MC_Retirement.portfolio_data.head()"
   ]
  },
  {
   "cell_type": "code",
   "execution_count": 22,
   "metadata": {},
   "outputs": [
    {
     "name": "stdout",
     "output_type": "stream",
     "text": [
      "Running Monte Carlo simulation number 0.\n",
      "Running Monte Carlo simulation number 10.\n",
      "Running Monte Carlo simulation number 20.\n",
      "Running Monte Carlo simulation number 30.\n",
      "Running Monte Carlo simulation number 40.\n",
      "Running Monte Carlo simulation number 50.\n",
      "Running Monte Carlo simulation number 60.\n",
      "Running Monte Carlo simulation number 70.\n",
      "Running Monte Carlo simulation number 80.\n",
      "Running Monte Carlo simulation number 90.\n",
      "Running Monte Carlo simulation number 100.\n",
      "Running Monte Carlo simulation number 110.\n",
      "Running Monte Carlo simulation number 120.\n",
      "Running Monte Carlo simulation number 130.\n",
      "Running Monte Carlo simulation number 140.\n",
      "Running Monte Carlo simulation number 150.\n",
      "Running Monte Carlo simulation number 160.\n",
      "Running Monte Carlo simulation number 170.\n",
      "Running Monte Carlo simulation number 180.\n",
      "Running Monte Carlo simulation number 190.\n",
      "Running Monte Carlo simulation number 200.\n",
      "Running Monte Carlo simulation number 210.\n",
      "Running Monte Carlo simulation number 220.\n",
      "Running Monte Carlo simulation number 230.\n",
      "Running Monte Carlo simulation number 240.\n",
      "Running Monte Carlo simulation number 250.\n",
      "Running Monte Carlo simulation number 260.\n",
      "Running Monte Carlo simulation number 270.\n",
      "Running Monte Carlo simulation number 280.\n",
      "Running Monte Carlo simulation number 290.\n",
      "Running Monte Carlo simulation number 300.\n",
      "Running Monte Carlo simulation number 310.\n",
      "Running Monte Carlo simulation number 320.\n",
      "Running Monte Carlo simulation number 330.\n",
      "Running Monte Carlo simulation number 340.\n",
      "Running Monte Carlo simulation number 350.\n",
      "Running Monte Carlo simulation number 360.\n",
      "Running Monte Carlo simulation number 370.\n",
      "Running Monte Carlo simulation number 380.\n",
      "Running Monte Carlo simulation number 390.\n",
      "Running Monte Carlo simulation number 400.\n",
      "Running Monte Carlo simulation number 410.\n",
      "Running Monte Carlo simulation number 420.\n",
      "Running Monte Carlo simulation number 430.\n",
      "Running Monte Carlo simulation number 440.\n",
      "Running Monte Carlo simulation number 450.\n",
      "Running Monte Carlo simulation number 460.\n",
      "Running Monte Carlo simulation number 470.\n",
      "Running Monte Carlo simulation number 480.\n",
      "Running Monte Carlo simulation number 490.\n"
     ]
    },
    {
     "data": {
      "text/html": [
       "<div>\n",
       "<style scoped>\n",
       "    .dataframe tbody tr th:only-of-type {\n",
       "        vertical-align: middle;\n",
       "    }\n",
       "\n",
       "    .dataframe tbody tr th {\n",
       "        vertical-align: top;\n",
       "    }\n",
       "\n",
       "    .dataframe thead th {\n",
       "        text-align: right;\n",
       "    }\n",
       "</style>\n",
       "<table border=\"1\" class=\"dataframe\">\n",
       "  <thead>\n",
       "    <tr style=\"text-align: right;\">\n",
       "      <th></th>\n",
       "      <th>0</th>\n",
       "      <th>1</th>\n",
       "      <th>2</th>\n",
       "      <th>3</th>\n",
       "      <th>4</th>\n",
       "      <th>5</th>\n",
       "      <th>6</th>\n",
       "      <th>7</th>\n",
       "      <th>8</th>\n",
       "      <th>9</th>\n",
       "      <th>...</th>\n",
       "      <th>490</th>\n",
       "      <th>491</th>\n",
       "      <th>492</th>\n",
       "      <th>493</th>\n",
       "      <th>494</th>\n",
       "      <th>495</th>\n",
       "      <th>496</th>\n",
       "      <th>497</th>\n",
       "      <th>498</th>\n",
       "      <th>499</th>\n",
       "    </tr>\n",
       "  </thead>\n",
       "  <tbody>\n",
       "    <tr>\n",
       "      <th>0</th>\n",
       "      <td>1.000000</td>\n",
       "      <td>1.000000</td>\n",
       "      <td>1.000000</td>\n",
       "      <td>1.000000</td>\n",
       "      <td>1.000000</td>\n",
       "      <td>1.000000</td>\n",
       "      <td>1.000000</td>\n",
       "      <td>1.000000</td>\n",
       "      <td>1.000000</td>\n",
       "      <td>1.000000</td>\n",
       "      <td>...</td>\n",
       "      <td>1.000000</td>\n",
       "      <td>1.000000</td>\n",
       "      <td>1.000000</td>\n",
       "      <td>1.000000</td>\n",
       "      <td>1.000000</td>\n",
       "      <td>1.000000</td>\n",
       "      <td>1.000000</td>\n",
       "      <td>1.000000</td>\n",
       "      <td>1.000000</td>\n",
       "      <td>1.000000</td>\n",
       "    </tr>\n",
       "    <tr>\n",
       "      <th>1</th>\n",
       "      <td>1.009759</td>\n",
       "      <td>0.991008</td>\n",
       "      <td>1.008463</td>\n",
       "      <td>1.001208</td>\n",
       "      <td>0.999494</td>\n",
       "      <td>1.003936</td>\n",
       "      <td>1.020830</td>\n",
       "      <td>1.009776</td>\n",
       "      <td>0.996940</td>\n",
       "      <td>0.996646</td>\n",
       "      <td>...</td>\n",
       "      <td>0.986787</td>\n",
       "      <td>1.009326</td>\n",
       "      <td>0.983699</td>\n",
       "      <td>1.003033</td>\n",
       "      <td>0.994110</td>\n",
       "      <td>0.987217</td>\n",
       "      <td>1.004091</td>\n",
       "      <td>1.002221</td>\n",
       "      <td>1.002865</td>\n",
       "      <td>1.003702</td>\n",
       "    </tr>\n",
       "    <tr>\n",
       "      <th>2</th>\n",
       "      <td>1.004121</td>\n",
       "      <td>0.978775</td>\n",
       "      <td>1.014995</td>\n",
       "      <td>1.005637</td>\n",
       "      <td>1.000784</td>\n",
       "      <td>0.994277</td>\n",
       "      <td>1.021965</td>\n",
       "      <td>1.018816</td>\n",
       "      <td>0.992849</td>\n",
       "      <td>1.001339</td>\n",
       "      <td>...</td>\n",
       "      <td>0.977457</td>\n",
       "      <td>1.005569</td>\n",
       "      <td>0.984138</td>\n",
       "      <td>0.995408</td>\n",
       "      <td>0.987538</td>\n",
       "      <td>0.981966</td>\n",
       "      <td>1.008019</td>\n",
       "      <td>1.007153</td>\n",
       "      <td>1.006628</td>\n",
       "      <td>1.005003</td>\n",
       "    </tr>\n",
       "    <tr>\n",
       "      <th>3</th>\n",
       "      <td>1.001785</td>\n",
       "      <td>0.969435</td>\n",
       "      <td>0.999320</td>\n",
       "      <td>1.000976</td>\n",
       "      <td>0.998831</td>\n",
       "      <td>0.997610</td>\n",
       "      <td>1.000250</td>\n",
       "      <td>1.015425</td>\n",
       "      <td>0.983192</td>\n",
       "      <td>1.013484</td>\n",
       "      <td>...</td>\n",
       "      <td>0.981970</td>\n",
       "      <td>0.993539</td>\n",
       "      <td>0.989041</td>\n",
       "      <td>0.994500</td>\n",
       "      <td>0.983258</td>\n",
       "      <td>0.982939</td>\n",
       "      <td>1.002703</td>\n",
       "      <td>1.003767</td>\n",
       "      <td>1.017838</td>\n",
       "      <td>0.996623</td>\n",
       "    </tr>\n",
       "    <tr>\n",
       "      <th>4</th>\n",
       "      <td>1.007767</td>\n",
       "      <td>0.971491</td>\n",
       "      <td>0.988164</td>\n",
       "      <td>0.986560</td>\n",
       "      <td>0.999566</td>\n",
       "      <td>0.995174</td>\n",
       "      <td>1.009226</td>\n",
       "      <td>1.027118</td>\n",
       "      <td>0.978092</td>\n",
       "      <td>1.006071</td>\n",
       "      <td>...</td>\n",
       "      <td>0.983262</td>\n",
       "      <td>0.983976</td>\n",
       "      <td>0.997123</td>\n",
       "      <td>0.994322</td>\n",
       "      <td>0.979694</td>\n",
       "      <td>0.989259</td>\n",
       "      <td>0.998932</td>\n",
       "      <td>1.000846</td>\n",
       "      <td>1.029277</td>\n",
       "      <td>0.999530</td>\n",
       "    </tr>\n",
       "    <tr>\n",
       "      <th>...</th>\n",
       "      <td>...</td>\n",
       "      <td>...</td>\n",
       "      <td>...</td>\n",
       "      <td>...</td>\n",
       "      <td>...</td>\n",
       "      <td>...</td>\n",
       "      <td>...</td>\n",
       "      <td>...</td>\n",
       "      <td>...</td>\n",
       "      <td>...</td>\n",
       "      <td>...</td>\n",
       "      <td>...</td>\n",
       "      <td>...</td>\n",
       "      <td>...</td>\n",
       "      <td>...</td>\n",
       "      <td>...</td>\n",
       "      <td>...</td>\n",
       "      <td>...</td>\n",
       "      <td>...</td>\n",
       "      <td>...</td>\n",
       "      <td>...</td>\n",
       "    </tr>\n",
       "    <tr>\n",
       "      <th>7556</th>\n",
       "      <td>11.272402</td>\n",
       "      <td>17.327795</td>\n",
       "      <td>23.622619</td>\n",
       "      <td>17.457765</td>\n",
       "      <td>10.180922</td>\n",
       "      <td>16.852713</td>\n",
       "      <td>5.199040</td>\n",
       "      <td>20.372114</td>\n",
       "      <td>6.920803</td>\n",
       "      <td>5.477003</td>\n",
       "      <td>...</td>\n",
       "      <td>24.489101</td>\n",
       "      <td>34.584572</td>\n",
       "      <td>6.960262</td>\n",
       "      <td>5.267937</td>\n",
       "      <td>21.703522</td>\n",
       "      <td>22.868203</td>\n",
       "      <td>22.101817</td>\n",
       "      <td>11.197586</td>\n",
       "      <td>4.937305</td>\n",
       "      <td>5.546175</td>\n",
       "    </tr>\n",
       "    <tr>\n",
       "      <th>7557</th>\n",
       "      <td>11.180050</td>\n",
       "      <td>17.516455</td>\n",
       "      <td>23.633931</td>\n",
       "      <td>17.354673</td>\n",
       "      <td>10.273581</td>\n",
       "      <td>16.735325</td>\n",
       "      <td>5.156791</td>\n",
       "      <td>20.493317</td>\n",
       "      <td>6.897567</td>\n",
       "      <td>5.510687</td>\n",
       "      <td>...</td>\n",
       "      <td>24.690651</td>\n",
       "      <td>34.843088</td>\n",
       "      <td>6.995041</td>\n",
       "      <td>5.270515</td>\n",
       "      <td>21.657395</td>\n",
       "      <td>22.990478</td>\n",
       "      <td>21.943950</td>\n",
       "      <td>11.222539</td>\n",
       "      <td>4.996371</td>\n",
       "      <td>5.630793</td>\n",
       "    </tr>\n",
       "    <tr>\n",
       "      <th>7558</th>\n",
       "      <td>11.165642</td>\n",
       "      <td>17.533976</td>\n",
       "      <td>23.858456</td>\n",
       "      <td>17.406872</td>\n",
       "      <td>10.310314</td>\n",
       "      <td>17.022828</td>\n",
       "      <td>5.209580</td>\n",
       "      <td>20.297592</td>\n",
       "      <td>6.905347</td>\n",
       "      <td>5.480123</td>\n",
       "      <td>...</td>\n",
       "      <td>24.507435</td>\n",
       "      <td>34.689376</td>\n",
       "      <td>6.912390</td>\n",
       "      <td>5.209259</td>\n",
       "      <td>21.496575</td>\n",
       "      <td>22.738117</td>\n",
       "      <td>21.844728</td>\n",
       "      <td>11.101676</td>\n",
       "      <td>5.022259</td>\n",
       "      <td>5.576988</td>\n",
       "    </tr>\n",
       "    <tr>\n",
       "      <th>7559</th>\n",
       "      <td>11.162856</td>\n",
       "      <td>17.811173</td>\n",
       "      <td>23.864545</td>\n",
       "      <td>17.625427</td>\n",
       "      <td>10.172968</td>\n",
       "      <td>17.034031</td>\n",
       "      <td>5.304667</td>\n",
       "      <td>20.296088</td>\n",
       "      <td>6.978543</td>\n",
       "      <td>5.482399</td>\n",
       "      <td>...</td>\n",
       "      <td>24.630718</td>\n",
       "      <td>35.060565</td>\n",
       "      <td>6.942855</td>\n",
       "      <td>5.210235</td>\n",
       "      <td>21.450569</td>\n",
       "      <td>22.667369</td>\n",
       "      <td>21.927486</td>\n",
       "      <td>11.065064</td>\n",
       "      <td>4.999463</td>\n",
       "      <td>5.507339</td>\n",
       "    </tr>\n",
       "    <tr>\n",
       "      <th>7560</th>\n",
       "      <td>11.229539</td>\n",
       "      <td>17.945127</td>\n",
       "      <td>23.826482</td>\n",
       "      <td>17.852566</td>\n",
       "      <td>10.042567</td>\n",
       "      <td>17.217456</td>\n",
       "      <td>5.173230</td>\n",
       "      <td>20.244635</td>\n",
       "      <td>6.982355</td>\n",
       "      <td>5.509563</td>\n",
       "      <td>...</td>\n",
       "      <td>24.764557</td>\n",
       "      <td>35.227931</td>\n",
       "      <td>6.955652</td>\n",
       "      <td>5.160991</td>\n",
       "      <td>21.403773</td>\n",
       "      <td>22.602304</td>\n",
       "      <td>21.876571</td>\n",
       "      <td>11.121860</td>\n",
       "      <td>5.034274</td>\n",
       "      <td>5.460171</td>\n",
       "    </tr>\n",
       "  </tbody>\n",
       "</table>\n",
       "<p>7561 rows × 500 columns</p>\n",
       "</div>"
      ],
      "text/plain": [
       "            0          1          2          3          4          5    \\\n",
       "0      1.000000   1.000000   1.000000   1.000000   1.000000   1.000000   \n",
       "1      1.009759   0.991008   1.008463   1.001208   0.999494   1.003936   \n",
       "2      1.004121   0.978775   1.014995   1.005637   1.000784   0.994277   \n",
       "3      1.001785   0.969435   0.999320   1.000976   0.998831   0.997610   \n",
       "4      1.007767   0.971491   0.988164   0.986560   0.999566   0.995174   \n",
       "...         ...        ...        ...        ...        ...        ...   \n",
       "7556  11.272402  17.327795  23.622619  17.457765  10.180922  16.852713   \n",
       "7557  11.180050  17.516455  23.633931  17.354673  10.273581  16.735325   \n",
       "7558  11.165642  17.533976  23.858456  17.406872  10.310314  17.022828   \n",
       "7559  11.162856  17.811173  23.864545  17.625427  10.172968  17.034031   \n",
       "7560  11.229539  17.945127  23.826482  17.852566  10.042567  17.217456   \n",
       "\n",
       "           6          7         8         9    ...        490        491  \\\n",
       "0     1.000000   1.000000  1.000000  1.000000  ...   1.000000   1.000000   \n",
       "1     1.020830   1.009776  0.996940  0.996646  ...   0.986787   1.009326   \n",
       "2     1.021965   1.018816  0.992849  1.001339  ...   0.977457   1.005569   \n",
       "3     1.000250   1.015425  0.983192  1.013484  ...   0.981970   0.993539   \n",
       "4     1.009226   1.027118  0.978092  1.006071  ...   0.983262   0.983976   \n",
       "...        ...        ...       ...       ...  ...        ...        ...   \n",
       "7556  5.199040  20.372114  6.920803  5.477003  ...  24.489101  34.584572   \n",
       "7557  5.156791  20.493317  6.897567  5.510687  ...  24.690651  34.843088   \n",
       "7558  5.209580  20.297592  6.905347  5.480123  ...  24.507435  34.689376   \n",
       "7559  5.304667  20.296088  6.978543  5.482399  ...  24.630718  35.060565   \n",
       "7560  5.173230  20.244635  6.982355  5.509563  ...  24.764557  35.227931   \n",
       "\n",
       "           492       493        494        495        496        497  \\\n",
       "0     1.000000  1.000000   1.000000   1.000000   1.000000   1.000000   \n",
       "1     0.983699  1.003033   0.994110   0.987217   1.004091   1.002221   \n",
       "2     0.984138  0.995408   0.987538   0.981966   1.008019   1.007153   \n",
       "3     0.989041  0.994500   0.983258   0.982939   1.002703   1.003767   \n",
       "4     0.997123  0.994322   0.979694   0.989259   0.998932   1.000846   \n",
       "...        ...       ...        ...        ...        ...        ...   \n",
       "7556  6.960262  5.267937  21.703522  22.868203  22.101817  11.197586   \n",
       "7557  6.995041  5.270515  21.657395  22.990478  21.943950  11.222539   \n",
       "7558  6.912390  5.209259  21.496575  22.738117  21.844728  11.101676   \n",
       "7559  6.942855  5.210235  21.450569  22.667369  21.927486  11.065064   \n",
       "7560  6.955652  5.160991  21.403773  22.602304  21.876571  11.121860   \n",
       "\n",
       "           498       499  \n",
       "0     1.000000  1.000000  \n",
       "1     1.002865  1.003702  \n",
       "2     1.006628  1.005003  \n",
       "3     1.017838  0.996623  \n",
       "4     1.029277  0.999530  \n",
       "...        ...       ...  \n",
       "7556  4.937305  5.546175  \n",
       "7557  4.996371  5.630793  \n",
       "7558  5.022259  5.576988  \n",
       "7559  4.999463  5.507339  \n",
       "7560  5.034274  5.460171  \n",
       "\n",
       "[7561 rows x 500 columns]"
      ]
     },
     "execution_count": 22,
     "metadata": {},
     "output_type": "execute_result"
    }
   ],
   "source": [
    "# Running a Monte Carlo simulation to forecast 30 years cumulative returns\n",
    "MC_Retirement.calc_cumulative_return()"
   ]
  },
  {
   "cell_type": "code",
   "execution_count": 23,
   "metadata": {},
   "outputs": [
    {
     "data": {
      "image/png": "[encoded data removed]",
      "text/plain": [
       "<Figure size 432x288 with 1 Axes>"
      ]
     },
     "metadata": {
      "needs_background": "light"
     },
     "output_type": "display_data"
    }
   ],
   "source": [
    "# Plot simulation outcomes\n",
    "line_plot = MC_Retirement.plot_simulation()"
   ]
  },
  {
   "cell_type": "code",
   "execution_count": 24,
   "metadata": {},
   "outputs": [
    {
     "data": {
      "image/png": "[encoded data removed]",
      "text/plain": [
       "<Figure size 432x288 with 1 Axes>"
      ]
     },
     "metadata": {
      "needs_background": "light"
     },
     "output_type": "display_data"
    }
   ],
   "source": [
    "# Plot probability distribution and confidence intervals\n",
    "dist_plot = MC_Retirement.plot_distribution()"
   ]
  },
  {
   "cell_type": "markdown",
   "metadata": {},
   "source": [
    "### Retirement Analysis"
   ]
  },
  {
   "cell_type": "code",
   "execution_count": 25,
   "metadata": {},
   "outputs": [
    {
     "name": "stdout",
     "output_type": "stream",
     "text": [
      "count           500.000000\n",
      "mean             15.250230\n",
      "std              10.116126\n",
      "min               1.859390\n",
      "25%               8.306336\n",
      "50%              12.541507\n",
      "75%              19.277134\n",
      "max              78.279035\n",
      "95% CI Lower      3.799216\n",
      "95% CI Upper     42.576134\n",
      "Name: 7560, dtype: float64\n"
     ]
    }
   ],
   "source": [
    "# Fetch summary statistics from the Monte Carlo simulation results\n",
    "stats_tbl = MC_Retirement.summarize_cumulative_return()\n",
    "\n",
    "# Print summary statistics\n",
    "print(stats_tbl)"
   ]
  },
  {
   "cell_type": "markdown",
   "metadata": {},
   "source": [
    "### Calculate the expected portfolio return at the 95% lower and upper confidence intervals based on a `$20,000` initial investment."
   ]
  },
  {
   "cell_type": "code",
   "execution_count": 26,
   "metadata": {},
   "outputs": [
    {
     "name": "stdout",
     "output_type": "stream",
     "text": [
      "There is a 95% chance that an initial investment of $20000 in the portfolio over the next 30 years will end within in the range of $75984.31 and $851522.68\n"
     ]
    }
   ],
   "source": [
    "# Set initial investment\n",
    "initial_investment = 20000\n",
    "\n",
    "# Use the lower and upper `95%` confidence intervals to calculate the range of the possible outcomes of our $20,000\n",
    "ci_lower = round(stats_tbl[8]*initial_investment,2)\n",
    "ci_upper = round(stats_tbl[9]*initial_investment,2)\n",
    "\n",
    "# Print results\n",
    "print(f\"There is a 95% chance that an initial investment of ${initial_investment} in the portfolio\"\n",
    "      f\" over the next 30 years will end within in the range of\"\n",
    "      f\" ${ci_lower} and ${ci_upper}\")"
   ]
  },
  {
   "cell_type": "markdown",
   "metadata": {},
   "source": [
    "### Calculate the expected portfolio return at the `95%` lower and upper confidence intervals based on a `50%` increase in the initial investment."
   ]
  },
  {
   "cell_type": "code",
   "execution_count": 27,
   "metadata": {},
   "outputs": [
    {
     "name": "stdout",
     "output_type": "stream",
     "text": [
      "There is a 95% chance that an initial investment of $30000.0 in the portfolio over the next 30 years will end within in the range of $113976.47 and $1277284.03\n"
     ]
    }
   ],
   "source": [
    "# Set initial investment\n",
    "initial_investment = 20000 * 1.5\n",
    "\n",
    "# Use the lower and upper `95%` confidence intervals to calculate the range of the possible outcomes of our $30,000\n",
    "ci_lower = round(stats_tbl[8]*initial_investment,2)\n",
    "ci_upper = round(stats_tbl[9]*initial_investment,2)\n",
    "\n",
    "# Print results\n",
    "print(f\"There is a 95% chance that an initial investment of ${initial_investment} in the portfolio\"\n",
    "      f\" over the next 30 years will end within in the range of\"\n",
    "      f\" ${ci_lower} and ${ci_upper}\")"
   ]
  },
  {
   "cell_type": "markdown",
   "metadata": {},
   "source": [
    "## Optional Challenge - Early Retirement\n",
    "\n",
    "\n",
    "### Five Years Retirement Option"
   ]
  },
  {
   "cell_type": "code",
   "execution_count": null,
   "metadata": {},
   "outputs": [],
   "source": [
    "# Configuring a Monte Carlo simulation to forecast 5 years cumulative returns\n",
    "# YOUR CODE HERE!"
   ]
  },
  {
   "cell_type": "code",
   "execution_count": null,
   "metadata": {},
   "outputs": [],
   "source": [
    "# Running a Monte Carlo simulation to forecast 5 years cumulative returns\n",
    "# YOUR CODE HERE!"
   ]
  },
  {
   "cell_type": "code",
   "execution_count": null,
   "metadata": {},
   "outputs": [],
   "source": [
    "# Plot simulation outcomes\n",
    "# YOUR CODE HERE!"
   ]
  },
  {
   "cell_type": "code",
   "execution_count": null,
   "metadata": {},
   "outputs": [],
   "source": [
    "# Plot probability distribution and confidence intervals\n",
    "# YOUR CODE HERE!"
   ]
  },
  {
   "cell_type": "code",
   "execution_count": null,
   "metadata": {},
   "outputs": [],
   "source": [
    "# Fetch summary statistics from the Monte Carlo simulation results\n",
    "# YOUR CODE HERE!\n",
    "\n",
    "# Print summary statistics\n",
    "# YOUR CODE HERE!"
   ]
  },
  {
   "cell_type": "code",
   "execution_count": null,
   "metadata": {},
   "outputs": [],
   "source": [
    "# Set initial investment\n",
    "# YOUR CODE HERE!\n",
    "\n",
    "# Use the lower and upper `95%` confidence intervals to calculate the range of the possible outcomes of our $60,000\n",
    "# YOUR CODE HERE!\n",
    "\n",
    "# Print results\n",
    "print(f\"There is a 95% chance that an initial investment of ${initial_investment} in the portfolio\"\n",
    "      f\" over the next 5 years will end within in the range of\"\n",
    "      f\" ${ci_lower_five} and ${ci_upper_five}\")"
   ]
  },
  {
   "cell_type": "markdown",
   "metadata": {},
   "source": [
    "### Ten Years Retirement Option"
   ]
  },
  {
   "cell_type": "code",
   "execution_count": null,
   "metadata": {},
   "outputs": [],
   "source": [
    "# Configuring a Monte Carlo simulation to forecast 10 years cumulative returns\n",
    "# YOUR CODE HERE!"
   ]
  },
  {
   "cell_type": "code",
   "execution_count": null,
   "metadata": {},
   "outputs": [],
   "source": [
    "# Running a Monte Carlo simulation to forecast 10 years cumulative returns\n",
    "# YOUR CODE HERE!"
   ]
  },
  {
   "cell_type": "code",
   "execution_count": null,
   "metadata": {},
   "outputs": [],
   "source": [
    "# Plot simulation outcomes\n",
    "# YOUR CODE HERE!"
   ]
  },
  {
   "cell_type": "code",
   "execution_count": null,
   "metadata": {},
   "outputs": [],
   "source": [
    "# Plot probability distribution and confidence intervals\n",
    "# YOUR CODE HERE!"
   ]
  },
  {
   "cell_type": "code",
   "execution_count": null,
   "metadata": {},
   "outputs": [],
   "source": [
    "# Fetch summary statistics from the Monte Carlo simulation results\n",
    "# YOUR CODE HERE!\n",
    "\n",
    "# Print summary statistics\n",
    "# YOUR CODE HERE!"
   ]
  },
  {
   "cell_type": "code",
   "execution_count": null,
   "metadata": {},
   "outputs": [],
   "source": [
    "# Set initial investment\n",
    "# YOUR CODE HERE!\n",
    "\n",
    "# Use the lower and upper `95%` confidence intervals to calculate the range of the possible outcomes of our $60,000\n",
    "# YOUR CODE HERE!\n",
    "\n",
    "# Print results\n",
    "print(f\"There is a 95% chance that an initial investment of ${initial_investment} in the portfolio\"\n",
    "      f\" over the next 10 years will end within in the range of\"\n",
    "      f\" ${ci_lower_ten} and ${ci_upper_ten}\")"
   ]
  }
 ],
 "metadata": {
  "kernelspec": {
   "display_name": "Python 3",
   "language": "python",
   "name": "python3"
  },
  "language_info": {
   "codemirror_mode": {
    "name": "ipython",
    "version": 3
   },
   "file_extension": ".py",
   "mimetype": "text/x-python",
   "name": "python",
   "nbconvert_exporter": "python",
   "pygments_lexer": "ipython3",
   "version": "3.7.9"
  }
 },
 "nbformat": 4,
 "nbformat_minor": 4
}
