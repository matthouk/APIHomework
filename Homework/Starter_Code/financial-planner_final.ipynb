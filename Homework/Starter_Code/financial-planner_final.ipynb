{
 "cells": [
  {
   "cell_type": "markdown",
   "metadata": {},
   "source": [
    "# Unit 5 - Financial Planning\n"
   ]
  },
  {
   "cell_type": "code",
   "execution_count": 1,
   "metadata": {},
   "outputs": [],
   "source": [
    "# Initial imports\n",
    "import os\n",
    "import requests\n",
    "import pandas as pd\n",
    "import json\n",
    "from dotenv import load_dotenv\n",
    "import alpaca_trade_api as tradeapi\n",
    "from MCForecastTools import MCSimulation\n",
    "\n",
    "%matplotlib inline"
   ]
  },
  {
   "cell_type": "code",
   "execution_count": 2,
   "metadata": {},
   "outputs": [
    {
     "data": {
      "text/plain": [
       "True"
      ]
     },
     "execution_count": 2,
     "metadata": {},
     "output_type": "execute_result"
    }
   ],
   "source": [
    "# Load .env enviroment variables\n",
    "load_dotenv()"
   ]
  },
  {
   "cell_type": "markdown",
   "metadata": {},
   "source": [
    "## Part 1 - Personal Finance Planner"
   ]
  },
  {
   "cell_type": "markdown",
   "metadata": {},
   "source": [
    "### Collect Crypto Prices Using the `requests` Library"
   ]
  },
  {
   "cell_type": "code",
   "execution_count": 3,
   "metadata": {},
   "outputs": [],
   "source": [
    "# Set current amount of crypto assets\n",
    "# Bitcoin and Ethereum variables, respectively \n",
    "\n",
    "my_btc = 1.2\n",
    "my_eth = 5.3 "
   ]
  },
  {
   "cell_type": "code",
   "execution_count": 4,
   "metadata": {},
   "outputs": [],
   "source": [
    "# Crypto API URLs\n",
    "btc_url = \"https://api.alternative.me/v2/ticker/Bitcoin/?convert=CAD\"\n",
    "eth_url = \"https://api.alternative.me/v2/ticker/Ethereum/?convert=CAD\""
   ]
  },
  {
   "cell_type": "code",
   "execution_count": 5,
   "metadata": {},
   "outputs": [
    {
     "name": "stdout",
     "output_type": "stream",
     "text": [
      "BTC Price: 28858.0\n",
      "ETH Price 748.98\n"
     ]
    }
   ],
   "source": [
    "# Test cell to view responses and verify data,etc \n",
    "# use requests lib and set the data as a json \n",
    "responsebtc = requests.get(btc_url)\n",
    "btcdata = responsebtc.json()\n",
    "btc_pricetest = btcdata['data']['1']['quotes']['USD']['price']\n",
    "btc_pricetest\n",
    "# Fetch current ETH price\n",
    "\n",
    "responseeth = requests.get(eth_url)\n",
    "ethdata = responseeth.json()\n",
    "eth_pricetest = ethdata['data']['1027']['quotes']['USD']['price']\n",
    "eth_pricetest\n",
    "\n",
    "# View it so I know what I am looking for to pull out the price. \n",
    "# BTC Test \n",
    "# print(json.dumps(btcdata, indent=4))\n",
    "print(f'BTC Price: {btc_pricetest}')\n",
    "\n",
    "\n",
    "# ETH Test\n",
    "# print(json.dumps(ethdata, indent=4))\n",
    "print(f'ETH Price {eth_pricetest}')\n",
    "\n"
   ]
  },
  {
   "cell_type": "code",
   "execution_count": 6,
   "metadata": {},
   "outputs": [
    {
     "name": "stdout",
     "output_type": "stream",
     "text": [
      "The current value of your 1.2 BTC is $34629.60\n",
      "The current value of your 5.3 ETH is $3969.59\n"
     ]
    }
   ],
   "source": [
    "# Fetch current BTC price\n",
    "# YOUR CODE HERE!\n",
    "responsebtc = requests.get(btc_url)\n",
    "btcdata = responsebtc.json()\n",
    "btc_price = btcdata['data']['1']['quotes']['USD']['price']\n",
    "btc_price\n",
    "# Fetch current ETH price\n",
    "# YOUR CODE HERE!]\n",
    "responseeth = requests.get(eth_url)\n",
    "ethdata = responseeth.json()\n",
    "eth_price = ethdata['data']['1027']['quotes']['USD']['price']\n",
    "eth_price\n",
    "# Compute current value of my crpto\n",
    "# YOUR CODE HERE!\n",
    "my_btc_value = (my_btc * btc_price)\n",
    "my_eth_value = (my_eth * eth_price)\n",
    "\n",
    "\n",
    "# Print current crypto wallet balance\n",
    "print(f\"The current value of your {my_btc} BTC is ${my_btc_value:0.2f}\")\n",
    "print(f\"The current value of your {my_eth} ETH is ${my_eth_value:0.2f}\")"
   ]
  },
  {
   "cell_type": "markdown",
   "metadata": {},
   "source": [
    "### Collect Investments Data Using Alpaca: `SPY` (stocks) and `AGG` (bonds)"
   ]
  },
  {
   "cell_type": "code",
   "execution_count": 7,
   "metadata": {},
   "outputs": [],
   "source": [
    "# Current amount of shares\n",
    "# YOUR CODE HERE!\n",
    "\n",
    "my_agg = 200 \n",
    "my_spy = 50 \n"
   ]
  },
  {
   "cell_type": "code",
   "execution_count": 8,
   "metadata": {},
   "outputs": [],
   "source": [
    "# Set Alpaca API key and secret\n",
    "# YOUR CODE HERE!\n",
    "alpaca_api_key = os.getenv(\"ALPACA_API_KEY\")\n",
    "alpaca_secret_key = os.getenv(\"ALPACA_SECRET_KEY\")\n",
    "\n",
    "# Testing.. \n",
    "# type(alpaca_api_key)\n",
    "# type(alpaca_secret_key)"
   ]
  },
  {
   "cell_type": "code",
   "execution_count": 9,
   "metadata": {},
   "outputs": [],
   "source": [
    "# Create the Alpaca API object\n",
    "# YOUR CODE HERE!\n",
    "\n",
    "api = tradeapi.REST(\n",
    "    alpaca_api_key,\n",
    "    alpaca_secret_key,\n",
    "    api_version = \"v2\"\n",
    ")"
   ]
  },
  {
   "cell_type": "code",
   "execution_count": 10,
   "metadata": {},
   "outputs": [
    {
     "data": {
      "text/html": [
       "<div>\n",
       "<style scoped>\n",
       "    .dataframe tbody tr th:only-of-type {\n",
       "        vertical-align: middle;\n",
       "    }\n",
       "\n",
       "    .dataframe tbody tr th {\n",
       "        vertical-align: top;\n",
       "    }\n",
       "\n",
       "    .dataframe thead tr th {\n",
       "        text-align: left;\n",
       "    }\n",
       "\n",
       "    .dataframe thead tr:last-of-type th {\n",
       "        text-align: right;\n",
       "    }\n",
       "</style>\n",
       "<table border=\"1\" class=\"dataframe\">\n",
       "  <thead>\n",
       "    <tr>\n",
       "      <th></th>\n",
       "      <th colspan=\"5\" halign=\"left\">AGG</th>\n",
       "      <th colspan=\"5\" halign=\"left\">SPY</th>\n",
       "    </tr>\n",
       "    <tr>\n",
       "      <th></th>\n",
       "      <th>open</th>\n",
       "      <th>high</th>\n",
       "      <th>low</th>\n",
       "      <th>close</th>\n",
       "      <th>volume</th>\n",
       "      <th>open</th>\n",
       "      <th>high</th>\n",
       "      <th>low</th>\n",
       "      <th>close</th>\n",
       "      <th>volume</th>\n",
       "    </tr>\n",
       "    <tr>\n",
       "      <th>time</th>\n",
       "      <th></th>\n",
       "      <th></th>\n",
       "      <th></th>\n",
       "      <th></th>\n",
       "      <th></th>\n",
       "      <th></th>\n",
       "      <th></th>\n",
       "      <th></th>\n",
       "      <th></th>\n",
       "      <th></th>\n",
       "    </tr>\n",
       "  </thead>\n",
       "  <tbody>\n",
       "    <tr>\n",
       "      <th>2020-12-30 00:00:00-05:00</th>\n",
       "      <td>118.09</td>\n",
       "      <td>118.12</td>\n",
       "      <td>117.9815</td>\n",
       "      <td>118.1</td>\n",
       "      <td>2593714</td>\n",
       "      <td>372.34</td>\n",
       "      <td>373.1</td>\n",
       "      <td>371.57</td>\n",
       "      <td>371.93</td>\n",
       "      <td>40295732</td>\n",
       "    </tr>\n",
       "  </tbody>\n",
       "</table>\n",
       "</div>"
      ],
      "text/plain": [
       "                              AGG                                       SPY  \\\n",
       "                             open    high       low  close   volume    open   \n",
       "time                                                                          \n",
       "2020-12-30 00:00:00-05:00  118.09  118.12  117.9815  118.1  2593714  372.34   \n",
       "\n",
       "                                                            \n",
       "                            high     low   close    volume  \n",
       "time                                                        \n",
       "2020-12-30 00:00:00-05:00  373.1  371.57  371.93  40295732  "
      ]
     },
     "execution_count": 10,
     "metadata": {},
     "output_type": "execute_result"
    }
   ],
   "source": [
    "# Format current date as ISO format\n",
    "# YOUR CODE HERE!\n",
    "\n",
    "# Set the tickers\n",
    "tickers = [\"AGG\", \"SPY\"]\n",
    "\n",
    "# Set timeframe to '1D' for Alpaca API\n",
    "timeframe = \"1D\"\n",
    "\n",
    "# Get data for both stocks \n",
    "\n",
    "# Set start and end datetimes for today\n",
    "start_date = pd.Timestamp(\"2020-12-30\", tz=\"America/New_York\").isoformat()\n",
    "end_date = pd.Timestamp(\"2020-12-30\", tz=\"America/New_York\").isoformat()\n",
    "\n",
    "todaysdata = api.get_barset(\n",
    "    tickers,\n",
    "    timeframe,\n",
    "    start=start_date,\n",
    "    end=end_date\n",
    ").df\n",
    "\n",
    "\n",
    "# Preview DataFrame\n",
    "todaysdata.head()"
   ]
  },
  {
   "cell_type": "code",
   "execution_count": 11,
   "metadata": {},
   "outputs": [
    {
     "data": {
      "text/html": [
       "<div>\n",
       "<style scoped>\n",
       "    .dataframe tbody tr th:only-of-type {\n",
       "        vertical-align: middle;\n",
       "    }\n",
       "\n",
       "    .dataframe tbody tr th {\n",
       "        vertical-align: top;\n",
       "    }\n",
       "\n",
       "    .dataframe thead th {\n",
       "        text-align: right;\n",
       "    }\n",
       "</style>\n",
       "<table border=\"1\" class=\"dataframe\">\n",
       "  <thead>\n",
       "    <tr style=\"text-align: right;\">\n",
       "      <th></th>\n",
       "      <th>AGG</th>\n",
       "      <th>SPY</th>\n",
       "    </tr>\n",
       "  </thead>\n",
       "  <tbody>\n",
       "    <tr>\n",
       "      <th>2020-12-30</th>\n",
       "      <td>118.1</td>\n",
       "      <td>371.93</td>\n",
       "    </tr>\n",
       "  </tbody>\n",
       "</table>\n",
       "</div>"
      ],
      "text/plain": [
       "              AGG     SPY\n",
       "2020-12-30  118.1  371.93"
      ]
     },
     "execution_count": 11,
     "metadata": {},
     "output_type": "execute_result"
    }
   ],
   "source": [
    "# Set new DF and get closing prices \n",
    "closingprice = pd.DataFrame()\n",
    "\n",
    "for ticker in tickers:\n",
    "    closingprice[ticker] = todaysdata[ticker]['close']\n",
    "\n",
    "# Drop the time component of the date\n",
    "closingprice.index = closingprice.index.date\n",
    "\n",
    "# show it\n",
    "closingprice.head()\n"
   ]
  },
  {
   "cell_type": "code",
   "execution_count": 12,
   "metadata": {},
   "outputs": [
    {
     "name": "stdout",
     "output_type": "stream",
     "text": [
      "Current AGG closing price: $118.1\n",
      "Current SPY closing price: $371.93\n"
     ]
    }
   ],
   "source": [
    "# Pick AGG and SPY close prices\n",
    "agg_close_price = closingprice.iloc[0][0]\n",
    "spy_close_price = closingprice.iloc[0][1]\n",
    "# Print AGG and SPY close prices\n",
    "print(f\"Current AGG closing price: ${agg_close_price}\")\n",
    "print(f\"Current SPY closing price: ${spy_close_price}\")"
   ]
  },
  {
   "cell_type": "code",
   "execution_count": 13,
   "metadata": {},
   "outputs": [
    {
     "name": "stdout",
     "output_type": "stream",
     "text": [
      "The current value of your 200 AGG shares is $23620.00\n",
      "The current value of your 50 SPY shares is $18596.50\n"
     ]
    }
   ],
   "source": [
    "# Compute the current value of shares\n",
    "# YOUR CODE HERE!\n",
    "my_agg_value = (my_agg * agg_close_price)\n",
    "my_spy_value = (my_spy * spy_close_price)\n",
    "\n",
    "# Print current value of share\n",
    "print(f\"The current value of your {my_agg} AGG shares is ${my_agg_value:0.2f}\")\n",
    "print(f\"The current value of your {my_spy} SPY shares is ${my_spy_value:0.2f}\")"
   ]
  },
  {
   "cell_type": "markdown",
   "metadata": {},
   "source": [
    "### Savings Health Analysis"
   ]
  },
  {
   "cell_type": "code",
   "execution_count": 14,
   "metadata": {},
   "outputs": [
    {
     "name": "stdout",
     "output_type": "stream",
     "text": [
      "total crypto = 38599.193999999996 and total shares = 42216.5\n"
     ]
    }
   ],
   "source": [
    "# Set combined values: \n",
    "cryptoval = my_btc_value + my_eth_value \n",
    "sharesval = my_agg_value + my_spy_value\n",
    "\n",
    "print(f'total crypto = {cryptoval} and total shares = {sharesval}')"
   ]
  },
  {
   "cell_type": "code",
   "execution_count": 15,
   "metadata": {},
   "outputs": [
    {
     "data": {
      "text/html": [
       "<div>\n",
       "<style scoped>\n",
       "    .dataframe tbody tr th:only-of-type {\n",
       "        vertical-align: middle;\n",
       "    }\n",
       "\n",
       "    .dataframe tbody tr th {\n",
       "        vertical-align: top;\n",
       "    }\n",
       "\n",
       "    .dataframe thead th {\n",
       "        text-align: right;\n",
       "    }\n",
       "</style>\n",
       "<table border=\"1\" class=\"dataframe\">\n",
       "  <thead>\n",
       "    <tr style=\"text-align: right;\">\n",
       "      <th></th>\n",
       "      <th>amount</th>\n",
       "    </tr>\n",
       "  </thead>\n",
       "  <tbody>\n",
       "    <tr>\n",
       "      <th>crypto</th>\n",
       "      <td>38599.194</td>\n",
       "    </tr>\n",
       "    <tr>\n",
       "      <th>shares</th>\n",
       "      <td>42216.500</td>\n",
       "    </tr>\n",
       "  </tbody>\n",
       "</table>\n",
       "</div>"
      ],
      "text/plain": [
       "           amount\n",
       "crypto  38599.194\n",
       "shares  42216.500"
      ]
     },
     "metadata": {},
     "output_type": "display_data"
    }
   ],
   "source": [
    "# Set monthly household income\n",
    "monthly_income = 12000\n",
    "\n",
    "# Create savings DataFrame\n",
    "\n",
    "data = {'amount' : [cryptoval, sharesval]} \n",
    "df_savings = pd.DataFrame(data=data, index=['crypto', 'shares'])\n",
    "\n",
    "\n",
    "# Display savings DataFrame\n",
    "display(df_savings)"
   ]
  },
  {
   "cell_type": "code",
   "execution_count": 16,
   "metadata": {},
   "outputs": [
    {
     "data": {
      "text/plain": [
       "array([<AxesSubplot:ylabel='amount'>], dtype=object)"
      ]
     },
     "execution_count": 16,
     "metadata": {},
     "output_type": "execute_result"
    },
    {
     "data": {
      "image/png": "[encoded data removed]",
      "text/plain": [
       "<Figure size 432x288 with 1 Axes>"
      ]
     },
     "metadata": {},
     "output_type": "display_data"
    }
   ],
   "source": [
    "# Plot savings pie chart\n",
    "df_savings.plot.pie(subplots=True)"
   ]
  },
  {
   "cell_type": "code",
   "execution_count": 17,
   "metadata": {},
   "outputs": [
    {
     "name": "stdout",
     "output_type": "stream",
     "text": [
      "Congrats, you have enough money for emergencies\n"
     ]
    }
   ],
   "source": [
    "# Set ideal emergency fund\n",
    "emergency_fund = monthly_income * 3\n",
    "\n",
    "# Calculate total amount of savings\n",
    "# Do the maths and if statements \n",
    "total_savings = (cryptoval + sharesval)\n",
    "# print(total_savings)\n",
    "# print(emergency_fund)\n",
    "\n",
    "\n",
    "if total_savings > emergency_fund : \n",
    "    print(\"Congrats, you have enough money for emergencies\")\n",
    "elif total_savings == emergency_fund:\n",
    "    print(\"You have finally saved enough for an emergency. Great work\")\n",
    "elif total_savings < emergency_fund: \n",
    "    amt_remaining = emergency_fund - total_savings\n",
    "    print(f'${amt_remaining} left to save for an emergency')\n"
   ]
  },
  {
   "cell_type": "markdown",
   "metadata": {},
   "source": [
    "## Part 2 - Retirement Planning\n",
    "\n",
    "### Monte Carlo Simulation"
   ]
  },
  {
   "cell_type": "code",
   "execution_count": 28,
   "metadata": {},
   "outputs": [],
   "source": [
    "# Set start and end dates of five years back from today.\n",
    "# Sample results may vary from the solution based on the time frame chosen\n",
    "start_date = pd.Timestamp('2015-12-20', tz='America/New_York').isoformat()\n",
    "end_date = pd.Timestamp('2020-12-20', tz='America/New_York').isoformat()"
   ]
  },
  {
   "cell_type": "code",
   "execution_count": 29,
   "metadata": {},
   "outputs": [
    {
     "data": {
      "text/html": [
       "<div>\n",
       "<style scoped>\n",
       "    .dataframe tbody tr th:only-of-type {\n",
       "        vertical-align: middle;\n",
       "    }\n",
       "\n",
       "    .dataframe tbody tr th {\n",
       "        vertical-align: top;\n",
       "    }\n",
       "\n",
       "    .dataframe thead tr th {\n",
       "        text-align: left;\n",
       "    }\n",
       "\n",
       "    .dataframe thead tr:last-of-type th {\n",
       "        text-align: right;\n",
       "    }\n",
       "</style>\n",
       "<table border=\"1\" class=\"dataframe\">\n",
       "  <thead>\n",
       "    <tr>\n",
       "      <th></th>\n",
       "      <th colspan=\"5\" halign=\"left\">AGG</th>\n",
       "      <th colspan=\"5\" halign=\"left\">SPY</th>\n",
       "    </tr>\n",
       "    <tr>\n",
       "      <th></th>\n",
       "      <th>open</th>\n",
       "      <th>high</th>\n",
       "      <th>low</th>\n",
       "      <th>close</th>\n",
       "      <th>volume</th>\n",
       "      <th>open</th>\n",
       "      <th>high</th>\n",
       "      <th>low</th>\n",
       "      <th>close</th>\n",
       "      <th>volume</th>\n",
       "    </tr>\n",
       "    <tr>\n",
       "      <th>time</th>\n",
       "      <th></th>\n",
       "      <th></th>\n",
       "      <th></th>\n",
       "      <th></th>\n",
       "      <th></th>\n",
       "      <th></th>\n",
       "      <th></th>\n",
       "      <th></th>\n",
       "      <th></th>\n",
       "      <th></th>\n",
       "    </tr>\n",
       "  </thead>\n",
       "  <tbody>\n",
       "    <tr>\n",
       "      <th>2015-12-21 00:00:00-05:00</th>\n",
       "      <td>108.49</td>\n",
       "      <td>108.54</td>\n",
       "      <td>108.24</td>\n",
       "      <td>108.29</td>\n",
       "      <td>2713944</td>\n",
       "      <td>201.43</td>\n",
       "      <td>201.88</td>\n",
       "      <td>200.09</td>\n",
       "      <td>201.65</td>\n",
       "      <td>80958257</td>\n",
       "    </tr>\n",
       "    <tr>\n",
       "      <th>2015-12-22 00:00:00-05:00</th>\n",
       "      <td>108.27</td>\n",
       "      <td>108.28</td>\n",
       "      <td>108.12</td>\n",
       "      <td>108.19</td>\n",
       "      <td>4323053</td>\n",
       "      <td>202.72</td>\n",
       "      <td>203.85</td>\n",
       "      <td>201.55</td>\n",
       "      <td>203.51</td>\n",
       "      <td>84529093</td>\n",
       "    </tr>\n",
       "    <tr>\n",
       "      <th>2015-12-23 00:00:00-05:00</th>\n",
       "      <td>108.01</td>\n",
       "      <td>108.19</td>\n",
       "      <td>108.00</td>\n",
       "      <td>108.18</td>\n",
       "      <td>3399409</td>\n",
       "      <td>204.71</td>\n",
       "      <td>206.07</td>\n",
       "      <td>204.58</td>\n",
       "      <td>206.02</td>\n",
       "      <td>79877884</td>\n",
       "    </tr>\n",
       "    <tr>\n",
       "      <th>2015-12-24 00:00:00-05:00</th>\n",
       "      <td>107.95</td>\n",
       "      <td>108.05</td>\n",
       "      <td>107.92</td>\n",
       "      <td>108.01</td>\n",
       "      <td>1151867</td>\n",
       "      <td>205.72</td>\n",
       "      <td>206.33</td>\n",
       "      <td>205.42</td>\n",
       "      <td>205.57</td>\n",
       "      <td>31975061</td>\n",
       "    </tr>\n",
       "    <tr>\n",
       "      <th>2015-12-28 00:00:00-05:00</th>\n",
       "      <td>108.03</td>\n",
       "      <td>108.13</td>\n",
       "      <td>107.99</td>\n",
       "      <td>108.02</td>\n",
       "      <td>2446828</td>\n",
       "      <td>204.86</td>\n",
       "      <td>205.26</td>\n",
       "      <td>203.94</td>\n",
       "      <td>205.19</td>\n",
       "      <td>50363129</td>\n",
       "    </tr>\n",
       "  </tbody>\n",
       "</table>\n",
       "</div>"
      ],
      "text/plain": [
       "                              AGG                                      SPY  \\\n",
       "                             open    high     low   close   volume    open   \n",
       "time                                                                         \n",
       "2015-12-21 00:00:00-05:00  108.49  108.54  108.24  108.29  2713944  201.43   \n",
       "2015-12-22 00:00:00-05:00  108.27  108.28  108.12  108.19  4323053  202.72   \n",
       "2015-12-23 00:00:00-05:00  108.01  108.19  108.00  108.18  3399409  204.71   \n",
       "2015-12-24 00:00:00-05:00  107.95  108.05  107.92  108.01  1151867  205.72   \n",
       "2015-12-28 00:00:00-05:00  108.03  108.13  107.99  108.02  2446828  204.86   \n",
       "\n",
       "                                                             \n",
       "                             high     low   close    volume  \n",
       "time                                                         \n",
       "2015-12-21 00:00:00-05:00  201.88  200.09  201.65  80958257  \n",
       "2015-12-22 00:00:00-05:00  203.85  201.55  203.51  84529093  \n",
       "2015-12-23 00:00:00-05:00  206.07  204.58  206.02  79877884  \n",
       "2015-12-24 00:00:00-05:00  206.33  205.42  205.57  31975061  \n",
       "2015-12-28 00:00:00-05:00  205.26  203.94  205.19  50363129  "
      ]
     },
     "execution_count": 29,
     "metadata": {},
     "output_type": "execute_result"
    }
   ],
   "source": [
    "# Get 5 years' worth of historical data for SPY and AGG\n",
    "\n",
    "df_stock_data = api.get_barset(\n",
    "    tickers,\n",
    "    timeframe,\n",
    "    start=start_date,\n",
    "    end=end_date\n",
    ").df\n",
    "\n",
    "\n",
    "\n",
    "# Display sample data\n",
    "df_stock_data.head()"
   ]
  },
  {
   "cell_type": "code",
   "execution_count": 30,
   "metadata": {},
   "outputs": [],
   "source": [
    "# Configuring a Monte Carlo simulation to forecast 30 years cumulative returns\n",
    "\n",
    "MC_Retirement = MCSimulation(\n",
    "    portfolio_data = df_stock_data,\n",
    "    weights = [.40, .60],\n",
    "    num_simulation = 500,\n",
    "    num_trading_days = 252*30\n",
    ")"
   ]
  },
  {
   "cell_type": "code",
   "execution_count": 31,
   "metadata": {},
   "outputs": [
    {
     "data": {
      "text/html": [
       "<div>\n",
       "<style scoped>\n",
       "    .dataframe tbody tr th:only-of-type {\n",
       "        vertical-align: middle;\n",
       "    }\n",
       "\n",
       "    .dataframe tbody tr th {\n",
       "        vertical-align: top;\n",
       "    }\n",
       "\n",
       "    .dataframe thead tr th {\n",
       "        text-align: left;\n",
       "    }\n",
       "\n",
       "    .dataframe thead tr:last-of-type th {\n",
       "        text-align: right;\n",
       "    }\n",
       "</style>\n",
       "<table border=\"1\" class=\"dataframe\">\n",
       "  <thead>\n",
       "    <tr>\n",
       "      <th></th>\n",
       "      <th colspan=\"6\" halign=\"left\">AGG</th>\n",
       "      <th colspan=\"6\" halign=\"left\">SPY</th>\n",
       "    </tr>\n",
       "    <tr>\n",
       "      <th></th>\n",
       "      <th>open</th>\n",
       "      <th>high</th>\n",
       "      <th>low</th>\n",
       "      <th>close</th>\n",
       "      <th>volume</th>\n",
       "      <th>daily_return</th>\n",
       "      <th>open</th>\n",
       "      <th>high</th>\n",
       "      <th>low</th>\n",
       "      <th>close</th>\n",
       "      <th>volume</th>\n",
       "      <th>daily_return</th>\n",
       "    </tr>\n",
       "    <tr>\n",
       "      <th>time</th>\n",
       "      <th></th>\n",
       "      <th></th>\n",
       "      <th></th>\n",
       "      <th></th>\n",
       "      <th></th>\n",
       "      <th></th>\n",
       "      <th></th>\n",
       "      <th></th>\n",
       "      <th></th>\n",
       "      <th></th>\n",
       "      <th></th>\n",
       "      <th></th>\n",
       "    </tr>\n",
       "  </thead>\n",
       "  <tbody>\n",
       "    <tr>\n",
       "      <th>2015-12-21 00:00:00-05:00</th>\n",
       "      <td>108.49</td>\n",
       "      <td>108.54</td>\n",
       "      <td>108.24</td>\n",
       "      <td>108.29</td>\n",
       "      <td>2713944</td>\n",
       "      <td>NaN</td>\n",
       "      <td>201.43</td>\n",
       "      <td>201.88</td>\n",
       "      <td>200.09</td>\n",
       "      <td>201.65</td>\n",
       "      <td>80958257</td>\n",
       "      <td>NaN</td>\n",
       "    </tr>\n",
       "    <tr>\n",
       "      <th>2015-12-22 00:00:00-05:00</th>\n",
       "      <td>108.27</td>\n",
       "      <td>108.28</td>\n",
       "      <td>108.12</td>\n",
       "      <td>108.19</td>\n",
       "      <td>4323053</td>\n",
       "      <td>-0.000923</td>\n",
       "      <td>202.72</td>\n",
       "      <td>203.85</td>\n",
       "      <td>201.55</td>\n",
       "      <td>203.51</td>\n",
       "      <td>84529093</td>\n",
       "      <td>0.009224</td>\n",
       "    </tr>\n",
       "    <tr>\n",
       "      <th>2015-12-23 00:00:00-05:00</th>\n",
       "      <td>108.01</td>\n",
       "      <td>108.19</td>\n",
       "      <td>108.00</td>\n",
       "      <td>108.18</td>\n",
       "      <td>3399409</td>\n",
       "      <td>-0.000092</td>\n",
       "      <td>204.71</td>\n",
       "      <td>206.07</td>\n",
       "      <td>204.58</td>\n",
       "      <td>206.02</td>\n",
       "      <td>79877884</td>\n",
       "      <td>0.012334</td>\n",
       "    </tr>\n",
       "    <tr>\n",
       "      <th>2015-12-24 00:00:00-05:00</th>\n",
       "      <td>107.95</td>\n",
       "      <td>108.05</td>\n",
       "      <td>107.92</td>\n",
       "      <td>108.01</td>\n",
       "      <td>1151867</td>\n",
       "      <td>-0.001571</td>\n",
       "      <td>205.72</td>\n",
       "      <td>206.33</td>\n",
       "      <td>205.42</td>\n",
       "      <td>205.57</td>\n",
       "      <td>31975061</td>\n",
       "      <td>-0.002184</td>\n",
       "    </tr>\n",
       "    <tr>\n",
       "      <th>2015-12-28 00:00:00-05:00</th>\n",
       "      <td>108.03</td>\n",
       "      <td>108.13</td>\n",
       "      <td>107.99</td>\n",
       "      <td>108.02</td>\n",
       "      <td>2446828</td>\n",
       "      <td>0.000093</td>\n",
       "      <td>204.86</td>\n",
       "      <td>205.26</td>\n",
       "      <td>203.94</td>\n",
       "      <td>205.19</td>\n",
       "      <td>50363129</td>\n",
       "      <td>-0.001849</td>\n",
       "    </tr>\n",
       "  </tbody>\n",
       "</table>\n",
       "</div>"
      ],
      "text/plain": [
       "                              AGG                                   \\\n",
       "                             open    high     low   close   volume   \n",
       "time                                                                 \n",
       "2015-12-21 00:00:00-05:00  108.49  108.54  108.24  108.29  2713944   \n",
       "2015-12-22 00:00:00-05:00  108.27  108.28  108.12  108.19  4323053   \n",
       "2015-12-23 00:00:00-05:00  108.01  108.19  108.00  108.18  3399409   \n",
       "2015-12-24 00:00:00-05:00  107.95  108.05  107.92  108.01  1151867   \n",
       "2015-12-28 00:00:00-05:00  108.03  108.13  107.99  108.02  2446828   \n",
       "\n",
       "                                           SPY                          \\\n",
       "                          daily_return    open    high     low   close   \n",
       "time                                                                     \n",
       "2015-12-21 00:00:00-05:00          NaN  201.43  201.88  200.09  201.65   \n",
       "2015-12-22 00:00:00-05:00    -0.000923  202.72  203.85  201.55  203.51   \n",
       "2015-12-23 00:00:00-05:00    -0.000092  204.71  206.07  204.58  206.02   \n",
       "2015-12-24 00:00:00-05:00    -0.001571  205.72  206.33  205.42  205.57   \n",
       "2015-12-28 00:00:00-05:00     0.000093  204.86  205.26  203.94  205.19   \n",
       "\n",
       "                                                  \n",
       "                             volume daily_return  \n",
       "time                                              \n",
       "2015-12-21 00:00:00-05:00  80958257          NaN  \n",
       "2015-12-22 00:00:00-05:00  84529093     0.009224  \n",
       "2015-12-23 00:00:00-05:00  79877884     0.012334  \n",
       "2015-12-24 00:00:00-05:00  31975061    -0.002184  \n",
       "2015-12-28 00:00:00-05:00  50363129    -0.001849  "
      ]
     },
     "execution_count": 31,
     "metadata": {},
     "output_type": "execute_result"
    }
   ],
   "source": [
    "# Printing the simulation input data\n",
    "MC_Retirement.portfolio_data.head()"
   ]
  },
  {
   "cell_type": "code",
   "execution_count": 32,
   "metadata": {},
   "outputs": [
    {
     "name": "stdout",
     "output_type": "stream",
     "text": [
      "Running Monte Carlo simulation number 0.\n",
      "Running Monte Carlo simulation number 10.\n",
      "Running Monte Carlo simulation number 20.\n",
      "Running Monte Carlo simulation number 30.\n",
      "Running Monte Carlo simulation number 40.\n",
      "Running Monte Carlo simulation number 50.\n",
      "Running Monte Carlo simulation number 60.\n",
      "Running Monte Carlo simulation number 70.\n",
      "Running Monte Carlo simulation number 80.\n",
      "Running Monte Carlo simulation number 90.\n",
      "Running Monte Carlo simulation number 100.\n",
      "Running Monte Carlo simulation number 110.\n",
      "Running Monte Carlo simulation number 120.\n",
      "Running Monte Carlo simulation number 130.\n",
      "Running Monte Carlo simulation number 140.\n",
      "Running Monte Carlo simulation number 150.\n",
      "Running Monte Carlo simulation number 160.\n",
      "Running Monte Carlo simulation number 170.\n",
      "Running Monte Carlo simulation number 180.\n",
      "Running Monte Carlo simulation number 190.\n",
      "Running Monte Carlo simulation number 200.\n",
      "Running Monte Carlo simulation number 210.\n",
      "Running Monte Carlo simulation number 220.\n",
      "Running Monte Carlo simulation number 230.\n",
      "Running Monte Carlo simulation number 240.\n",
      "Running Monte Carlo simulation number 250.\n",
      "Running Monte Carlo simulation number 260.\n",
      "Running Monte Carlo simulation number 270.\n",
      "Running Monte Carlo simulation number 280.\n",
      "Running Monte Carlo simulation number 290.\n",
      "Running Monte Carlo simulation number 300.\n",
      "Running Monte Carlo simulation number 310.\n",
      "Running Monte Carlo simulation number 320.\n",
      "Running Monte Carlo simulation number 330.\n",
      "Running Monte Carlo simulation number 340.\n",
      "Running Monte Carlo simulation number 350.\n",
      "Running Monte Carlo simulation number 360.\n",
      "Running Monte Carlo simulation number 370.\n",
      "Running Monte Carlo simulation number 380.\n",
      "Running Monte Carlo simulation number 390.\n",
      "Running Monte Carlo simulation number 400.\n",
      "Running Monte Carlo simulation number 410.\n",
      "Running Monte Carlo simulation number 420.\n",
      "Running Monte Carlo simulation number 430.\n",
      "Running Monte Carlo simulation number 440.\n",
      "Running Monte Carlo simulation number 450.\n",
      "Running Monte Carlo simulation number 460.\n",
      "Running Monte Carlo simulation number 470.\n",
      "Running Monte Carlo simulation number 480.\n",
      "Running Monte Carlo simulation number 490.\n"
     ]
    },
    {
     "data": {
      "text/html": [
       "<div>\n",
       "<style scoped>\n",
       "    .dataframe tbody tr th:only-of-type {\n",
       "        vertical-align: middle;\n",
       "    }\n",
       "\n",
       "    .dataframe tbody tr th {\n",
       "        vertical-align: top;\n",
       "    }\n",
       "\n",
       "    .dataframe thead th {\n",
       "        text-align: right;\n",
       "    }\n",
       "</style>\n",
       "<table border=\"1\" class=\"dataframe\">\n",
       "  <thead>\n",
       "    <tr style=\"text-align: right;\">\n",
       "      <th></th>\n",
       "      <th>0</th>\n",
       "      <th>1</th>\n",
       "      <th>2</th>\n",
       "      <th>3</th>\n",
       "      <th>4</th>\n",
       "      <th>5</th>\n",
       "      <th>6</th>\n",
       "      <th>7</th>\n",
       "      <th>8</th>\n",
       "      <th>9</th>\n",
       "      <th>...</th>\n",
       "      <th>490</th>\n",
       "      <th>491</th>\n",
       "      <th>492</th>\n",
       "      <th>493</th>\n",
       "      <th>494</th>\n",
       "      <th>495</th>\n",
       "      <th>496</th>\n",
       "      <th>497</th>\n",
       "      <th>498</th>\n",
       "      <th>499</th>\n",
       "    </tr>\n",
       "  </thead>\n",
       "  <tbody>\n",
       "    <tr>\n",
       "      <th>0</th>\n",
       "      <td>1.000000</td>\n",
       "      <td>1.000000</td>\n",
       "      <td>1.000000</td>\n",
       "      <td>1.000000</td>\n",
       "      <td>1.000000</td>\n",
       "      <td>1.000000</td>\n",
       "      <td>1.000000</td>\n",
       "      <td>1.000000</td>\n",
       "      <td>1.000000</td>\n",
       "      <td>1.000000</td>\n",
       "      <td>...</td>\n",
       "      <td>1.000000</td>\n",
       "      <td>1.000000</td>\n",
       "      <td>1.000000</td>\n",
       "      <td>1.000000</td>\n",
       "      <td>1.000000</td>\n",
       "      <td>1.000000</td>\n",
       "      <td>1.000000</td>\n",
       "      <td>1.000000</td>\n",
       "      <td>1.000000</td>\n",
       "      <td>1.000000</td>\n",
       "    </tr>\n",
       "    <tr>\n",
       "      <th>1</th>\n",
       "      <td>1.005156</td>\n",
       "      <td>0.985310</td>\n",
       "      <td>1.018295</td>\n",
       "      <td>1.010112</td>\n",
       "      <td>1.007564</td>\n",
       "      <td>1.007185</td>\n",
       "      <td>1.013105</td>\n",
       "      <td>1.001048</td>\n",
       "      <td>0.999542</td>\n",
       "      <td>1.000384</td>\n",
       "      <td>...</td>\n",
       "      <td>0.999589</td>\n",
       "      <td>0.993646</td>\n",
       "      <td>0.996445</td>\n",
       "      <td>1.002221</td>\n",
       "      <td>0.988194</td>\n",
       "      <td>1.008637</td>\n",
       "      <td>1.008576</td>\n",
       "      <td>0.995231</td>\n",
       "      <td>0.989654</td>\n",
       "      <td>0.996192</td>\n",
       "    </tr>\n",
       "    <tr>\n",
       "      <th>2</th>\n",
       "      <td>1.004330</td>\n",
       "      <td>0.986224</td>\n",
       "      <td>1.030980</td>\n",
       "      <td>1.002114</td>\n",
       "      <td>0.991426</td>\n",
       "      <td>1.002982</td>\n",
       "      <td>1.021920</td>\n",
       "      <td>0.993120</td>\n",
       "      <td>0.993509</td>\n",
       "      <td>0.996090</td>\n",
       "      <td>...</td>\n",
       "      <td>1.007186</td>\n",
       "      <td>0.992143</td>\n",
       "      <td>1.002825</td>\n",
       "      <td>1.011135</td>\n",
       "      <td>0.985508</td>\n",
       "      <td>1.021628</td>\n",
       "      <td>1.012565</td>\n",
       "      <td>0.978878</td>\n",
       "      <td>0.991830</td>\n",
       "      <td>0.986039</td>\n",
       "    </tr>\n",
       "    <tr>\n",
       "      <th>3</th>\n",
       "      <td>1.003650</td>\n",
       "      <td>0.980914</td>\n",
       "      <td>1.020644</td>\n",
       "      <td>1.009240</td>\n",
       "      <td>0.989397</td>\n",
       "      <td>1.005126</td>\n",
       "      <td>1.014204</td>\n",
       "      <td>0.989978</td>\n",
       "      <td>0.989459</td>\n",
       "      <td>0.989856</td>\n",
       "      <td>...</td>\n",
       "      <td>1.012192</td>\n",
       "      <td>0.990762</td>\n",
       "      <td>1.010271</td>\n",
       "      <td>1.017897</td>\n",
       "      <td>0.975881</td>\n",
       "      <td>1.028252</td>\n",
       "      <td>1.006659</td>\n",
       "      <td>0.990030</td>\n",
       "      <td>1.001965</td>\n",
       "      <td>0.999800</td>\n",
       "    </tr>\n",
       "    <tr>\n",
       "      <th>4</th>\n",
       "      <td>0.996095</td>\n",
       "      <td>0.976543</td>\n",
       "      <td>1.022080</td>\n",
       "      <td>1.020706</td>\n",
       "      <td>0.996384</td>\n",
       "      <td>0.992561</td>\n",
       "      <td>1.020662</td>\n",
       "      <td>0.986322</td>\n",
       "      <td>0.971085</td>\n",
       "      <td>0.994663</td>\n",
       "      <td>...</td>\n",
       "      <td>1.013256</td>\n",
       "      <td>1.001458</td>\n",
       "      <td>1.007945</td>\n",
       "      <td>1.006561</td>\n",
       "      <td>0.976138</td>\n",
       "      <td>1.014681</td>\n",
       "      <td>1.000249</td>\n",
       "      <td>0.998223</td>\n",
       "      <td>1.006411</td>\n",
       "      <td>0.990608</td>\n",
       "    </tr>\n",
       "    <tr>\n",
       "      <th>...</th>\n",
       "      <td>...</td>\n",
       "      <td>...</td>\n",
       "      <td>...</td>\n",
       "      <td>...</td>\n",
       "      <td>...</td>\n",
       "      <td>...</td>\n",
       "      <td>...</td>\n",
       "      <td>...</td>\n",
       "      <td>...</td>\n",
       "      <td>...</td>\n",
       "      <td>...</td>\n",
       "      <td>...</td>\n",
       "      <td>...</td>\n",
       "      <td>...</td>\n",
       "      <td>...</td>\n",
       "      <td>...</td>\n",
       "      <td>...</td>\n",
       "      <td>...</td>\n",
       "      <td>...</td>\n",
       "      <td>...</td>\n",
       "      <td>...</td>\n",
       "    </tr>\n",
       "    <tr>\n",
       "      <th>7556</th>\n",
       "      <td>5.520764</td>\n",
       "      <td>35.202858</td>\n",
       "      <td>4.247749</td>\n",
       "      <td>17.475640</td>\n",
       "      <td>12.069912</td>\n",
       "      <td>6.351365</td>\n",
       "      <td>9.629182</td>\n",
       "      <td>16.116726</td>\n",
       "      <td>12.510465</td>\n",
       "      <td>9.577623</td>\n",
       "      <td>...</td>\n",
       "      <td>13.069996</td>\n",
       "      <td>12.067176</td>\n",
       "      <td>11.499391</td>\n",
       "      <td>7.389089</td>\n",
       "      <td>16.325513</td>\n",
       "      <td>20.312070</td>\n",
       "      <td>8.671839</td>\n",
       "      <td>21.035923</td>\n",
       "      <td>18.781874</td>\n",
       "      <td>12.456680</td>\n",
       "    </tr>\n",
       "    <tr>\n",
       "      <th>7557</th>\n",
       "      <td>5.520462</td>\n",
       "      <td>35.494818</td>\n",
       "      <td>4.281412</td>\n",
       "      <td>17.357892</td>\n",
       "      <td>11.924784</td>\n",
       "      <td>6.390771</td>\n",
       "      <td>9.661497</td>\n",
       "      <td>16.189061</td>\n",
       "      <td>12.608867</td>\n",
       "      <td>9.591415</td>\n",
       "      <td>...</td>\n",
       "      <td>13.327036</td>\n",
       "      <td>12.055500</td>\n",
       "      <td>11.539792</td>\n",
       "      <td>7.351062</td>\n",
       "      <td>16.272266</td>\n",
       "      <td>20.461451</td>\n",
       "      <td>8.636275</td>\n",
       "      <td>21.156811</td>\n",
       "      <td>18.849337</td>\n",
       "      <td>12.329699</td>\n",
       "    </tr>\n",
       "    <tr>\n",
       "      <th>7558</th>\n",
       "      <td>5.516040</td>\n",
       "      <td>35.859712</td>\n",
       "      <td>4.303848</td>\n",
       "      <td>17.364541</td>\n",
       "      <td>11.967655</td>\n",
       "      <td>6.369083</td>\n",
       "      <td>9.639425</td>\n",
       "      <td>16.111120</td>\n",
       "      <td>12.460674</td>\n",
       "      <td>9.466625</td>\n",
       "      <td>...</td>\n",
       "      <td>13.295260</td>\n",
       "      <td>12.028530</td>\n",
       "      <td>11.398682</td>\n",
       "      <td>7.365223</td>\n",
       "      <td>16.292790</td>\n",
       "      <td>20.326091</td>\n",
       "      <td>8.613415</td>\n",
       "      <td>21.126893</td>\n",
       "      <td>18.842895</td>\n",
       "      <td>12.332370</td>\n",
       "    </tr>\n",
       "    <tr>\n",
       "      <th>7559</th>\n",
       "      <td>5.535929</td>\n",
       "      <td>35.937905</td>\n",
       "      <td>4.279977</td>\n",
       "      <td>17.627910</td>\n",
       "      <td>12.077562</td>\n",
       "      <td>6.376292</td>\n",
       "      <td>9.624911</td>\n",
       "      <td>15.954696</td>\n",
       "      <td>12.344181</td>\n",
       "      <td>9.539736</td>\n",
       "      <td>...</td>\n",
       "      <td>13.185504</td>\n",
       "      <td>12.156323</td>\n",
       "      <td>11.505207</td>\n",
       "      <td>7.411245</td>\n",
       "      <td>16.215374</td>\n",
       "      <td>20.500044</td>\n",
       "      <td>8.567458</td>\n",
       "      <td>21.292348</td>\n",
       "      <td>18.880278</td>\n",
       "      <td>12.345163</td>\n",
       "    </tr>\n",
       "    <tr>\n",
       "      <th>7560</th>\n",
       "      <td>5.523277</td>\n",
       "      <td>36.170092</td>\n",
       "      <td>4.293095</td>\n",
       "      <td>17.403233</td>\n",
       "      <td>12.118980</td>\n",
       "      <td>6.385441</td>\n",
       "      <td>9.669221</td>\n",
       "      <td>15.772248</td>\n",
       "      <td>12.327352</td>\n",
       "      <td>9.495234</td>\n",
       "      <td>...</td>\n",
       "      <td>13.028923</td>\n",
       "      <td>12.127103</td>\n",
       "      <td>11.522087</td>\n",
       "      <td>7.348477</td>\n",
       "      <td>16.228214</td>\n",
       "      <td>20.498583</td>\n",
       "      <td>8.474314</td>\n",
       "      <td>21.071870</td>\n",
       "      <td>18.907709</td>\n",
       "      <td>12.505241</td>\n",
       "    </tr>\n",
       "  </tbody>\n",
       "</table>\n",
       "<p>7561 rows × 500 columns</p>\n",
       "</div>"
      ],
      "text/plain": [
       "           0          1         2          3          4         5         6    \\\n",
       "0     1.000000   1.000000  1.000000   1.000000   1.000000  1.000000  1.000000   \n",
       "1     1.005156   0.985310  1.018295   1.010112   1.007564  1.007185  1.013105   \n",
       "2     1.004330   0.986224  1.030980   1.002114   0.991426  1.002982  1.021920   \n",
       "3     1.003650   0.980914  1.020644   1.009240   0.989397  1.005126  1.014204   \n",
       "4     0.996095   0.976543  1.022080   1.020706   0.996384  0.992561  1.020662   \n",
       "...        ...        ...       ...        ...        ...       ...       ...   \n",
       "7556  5.520764  35.202858  4.247749  17.475640  12.069912  6.351365  9.629182   \n",
       "7557  5.520462  35.494818  4.281412  17.357892  11.924784  6.390771  9.661497   \n",
       "7558  5.516040  35.859712  4.303848  17.364541  11.967655  6.369083  9.639425   \n",
       "7559  5.535929  35.937905  4.279977  17.627910  12.077562  6.376292  9.624911   \n",
       "7560  5.523277  36.170092  4.293095  17.403233  12.118980  6.385441  9.669221   \n",
       "\n",
       "            7          8         9    ...        490        491        492  \\\n",
       "0      1.000000   1.000000  1.000000  ...   1.000000   1.000000   1.000000   \n",
       "1      1.001048   0.999542  1.000384  ...   0.999589   0.993646   0.996445   \n",
       "2      0.993120   0.993509  0.996090  ...   1.007186   0.992143   1.002825   \n",
       "3      0.989978   0.989459  0.989856  ...   1.012192   0.990762   1.010271   \n",
       "4      0.986322   0.971085  0.994663  ...   1.013256   1.001458   1.007945   \n",
       "...         ...        ...       ...  ...        ...        ...        ...   \n",
       "7556  16.116726  12.510465  9.577623  ...  13.069996  12.067176  11.499391   \n",
       "7557  16.189061  12.608867  9.591415  ...  13.327036  12.055500  11.539792   \n",
       "7558  16.111120  12.460674  9.466625  ...  13.295260  12.028530  11.398682   \n",
       "7559  15.954696  12.344181  9.539736  ...  13.185504  12.156323  11.505207   \n",
       "7560  15.772248  12.327352  9.495234  ...  13.028923  12.127103  11.522087   \n",
       "\n",
       "           493        494        495       496        497        498  \\\n",
       "0     1.000000   1.000000   1.000000  1.000000   1.000000   1.000000   \n",
       "1     1.002221   0.988194   1.008637  1.008576   0.995231   0.989654   \n",
       "2     1.011135   0.985508   1.021628  1.012565   0.978878   0.991830   \n",
       "3     1.017897   0.975881   1.028252  1.006659   0.990030   1.001965   \n",
       "4     1.006561   0.976138   1.014681  1.000249   0.998223   1.006411   \n",
       "...        ...        ...        ...       ...        ...        ...   \n",
       "7556  7.389089  16.325513  20.312070  8.671839  21.035923  18.781874   \n",
       "7557  7.351062  16.272266  20.461451  8.636275  21.156811  18.849337   \n",
       "7558  7.365223  16.292790  20.326091  8.613415  21.126893  18.842895   \n",
       "7559  7.411245  16.215374  20.500044  8.567458  21.292348  18.880278   \n",
       "7560  7.348477  16.228214  20.498583  8.474314  21.071870  18.907709   \n",
       "\n",
       "            499  \n",
       "0      1.000000  \n",
       "1      0.996192  \n",
       "2      0.986039  \n",
       "3      0.999800  \n",
       "4      0.990608  \n",
       "...         ...  \n",
       "7556  12.456680  \n",
       "7557  12.329699  \n",
       "7558  12.332370  \n",
       "7559  12.345163  \n",
       "7560  12.505241  \n",
       "\n",
       "[7561 rows x 500 columns]"
      ]
     },
     "execution_count": 32,
     "metadata": {},
     "output_type": "execute_result"
    }
   ],
   "source": [
    "# Running a Monte Carlo simulation to forecast 30 years cumulative returns\n",
    "MC_Retirement.calc_cumulative_return()"
   ]
  },
  {
   "cell_type": "code",
   "execution_count": 33,
   "metadata": {},
   "outputs": [
    {
     "data": {
      "image/png": "[encoded data removed]",
      "text/plain": [
       "<Figure size 432x288 with 1 Axes>"
      ]
     },
     "metadata": {
      "needs_background": "light"
     },
     "output_type": "display_data"
    }
   ],
   "source": [
    "# Plot simulation outcomes\n",
    "line_plot = MC_Retirement.plot_simulation()"
   ]
  },
  {
   "cell_type": "code",
   "execution_count": 34,
   "metadata": {},
   "outputs": [
    {
     "data": {
      "image/png": "[encoded data removed]",
      "text/plain": [
       "<Figure size 432x288 with 1 Axes>"
      ]
     },
     "metadata": {
      "needs_background": "light"
     },
     "output_type": "display_data"
    }
   ],
   "source": [
    "# Plot probability distribution and confidence intervals\n",
    "dist_plot = MC_Retirement.plot_distribution()"
   ]
  },
  {
   "cell_type": "markdown",
   "metadata": {},
   "source": [
    "### Retirement Analysis"
   ]
  },
  {
   "cell_type": "code",
   "execution_count": 35,
   "metadata": {},
   "outputs": [
    {
     "name": "stdout",
     "output_type": "stream",
     "text": [
      "count           500.000000\n",
      "mean             15.438073\n",
      "std              11.668136\n",
      "min               1.514373\n",
      "25%               8.308865\n",
      "50%              12.481672\n",
      "75%              19.011290\n",
      "max             108.093383\n",
      "95% CI Lower      3.648464\n",
      "95% CI Upper     43.679742\n",
      "Name: 7560, dtype: float64\n"
     ]
    }
   ],
   "source": [
    "# Fetch summary statistics from the Monte Carlo simulation results\n",
    "stats_tbl = MC_Retirement.summarize_cumulative_return()\n",
    "\n",
    "# Print summary statistics\n",
    "print(stats_tbl)"
   ]
  },
  {
   "cell_type": "markdown",
   "metadata": {},
   "source": [
    "### Calculate the expected portfolio return at the 95% lower and upper confidence intervals based on a `$20,000` initial investment."
   ]
  },
  {
   "cell_type": "code",
   "execution_count": 36,
   "metadata": {},
   "outputs": [
    {
     "name": "stdout",
     "output_type": "stream",
     "text": [
      "There is a 95% chance that an initial investment of $20000 in the portfolio over the next 30 years will end within in the range of $72969.29 and $873594.84\n"
     ]
    }
   ],
   "source": [
    "# Set initial investment\n",
    "initial_investment = 20000\n",
    "\n",
    "# Use the lower and upper `95%` confidence intervals to calculate the range of the possible outcomes of our $20,000\n",
    "ci_lower = round(stats_tbl[8]*initial_investment,2)\n",
    "ci_upper = round(stats_tbl[9]*initial_investment,2)\n",
    "\n",
    "# Print results\n",
    "print(f\"There is a 95% chance that an initial investment of ${initial_investment} in the portfolio\"\n",
    "      f\" over the next 30 years will end within in the range of\"\n",
    "      f\" ${ci_lower} and ${ci_upper}\")"
   ]
  },
  {
   "cell_type": "markdown",
   "metadata": {},
   "source": [
    "### Calculate the expected portfolio return at the `95%` lower and upper confidence intervals based on a `50%` increase in the initial investment."
   ]
  },
  {
   "cell_type": "code",
   "execution_count": 37,
   "metadata": {},
   "outputs": [
    {
     "name": "stdout",
     "output_type": "stream",
     "text": [
      "There is a 95% chance that an initial investment of $30000.0 in the portfolio over the next 30 years will end within in the range of $109453.93 and $1310392.26\n"
     ]
    }
   ],
   "source": [
    "# Set initial investment\n",
    "initial_investment = 20000 * 1.5\n",
    "\n",
    "# Use the lower and upper `95%` confidence intervals to calculate the range of the possible outcomes of our $30,000\n",
    "ci_lower = round(stats_tbl[8]*initial_investment,2)\n",
    "ci_upper = round(stats_tbl[9]*initial_investment,2)\n",
    "\n",
    "# Print results\n",
    "print(f\"There is a 95% chance that an initial investment of ${initial_investment} in the portfolio\"\n",
    "      f\" over the next 30 years will end within in the range of\"\n",
    "      f\" ${ci_lower} and ${ci_upper}\")"
   ]
  },
  {
   "cell_type": "markdown",
   "metadata": {},
   "source": [
    "## Optional Challenge - Early Retirement\n",
    "\n",
    "\n",
    "### Five Years Retirement Option"
   ]
  },
  {
   "cell_type": "code",
   "execution_count": null,
   "metadata": {},
   "outputs": [],
   "source": [
    "# Configuring a Monte Carlo simulation to forecast 5 years cumulative returns\n",
    "# YOUR CODE HERE!"
   ]
  },
  {
   "cell_type": "code",
   "execution_count": null,
   "metadata": {},
   "outputs": [],
   "source": [
    "# Running a Monte Carlo simulation to forecast 5 years cumulative returns\n",
    "# YOUR CODE HERE!"
   ]
  },
  {
   "cell_type": "code",
   "execution_count": null,
   "metadata": {},
   "outputs": [],
   "source": [
    "# Plot simulation outcomes\n",
    "# YOUR CODE HERE!"
   ]
  },
  {
   "cell_type": "code",
   "execution_count": null,
   "metadata": {},
   "outputs": [],
   "source": [
    "# Plot probability distribution and confidence intervals\n",
    "# YOUR CODE HERE!"
   ]
  },
  {
   "cell_type": "code",
   "execution_count": null,
   "metadata": {},
   "outputs": [],
   "source": [
    "# Fetch summary statistics from the Monte Carlo simulation results\n",
    "# YOUR CODE HERE!\n",
    "\n",
    "# Print summary statistics\n",
    "# YOUR CODE HERE!"
   ]
  },
  {
   "cell_type": "code",
   "execution_count": null,
   "metadata": {},
   "outputs": [],
   "source": [
    "# Set initial investment\n",
    "# YOUR CODE HERE!\n",
    "\n",
    "# Use the lower and upper `95%` confidence intervals to calculate the range of the possible outcomes of our $60,000\n",
    "# YOUR CODE HERE!\n",
    "\n",
    "# Print results\n",
    "print(f\"There is a 95% chance that an initial investment of ${initial_investment} in the portfolio\"\n",
    "      f\" over the next 5 years will end within in the range of\"\n",
    "      f\" ${ci_lower_five} and ${ci_upper_five}\")"
   ]
  },
  {
   "cell_type": "markdown",
   "metadata": {},
   "source": [
    "### Ten Years Retirement Option"
   ]
  },
  {
   "cell_type": "code",
   "execution_count": null,
   "metadata": {},
   "outputs": [],
   "source": [
    "# Configuring a Monte Carlo simulation to forecast 10 years cumulative returns\n",
    "# YOUR CODE HERE!"
   ]
  },
  {
   "cell_type": "code",
   "execution_count": null,
   "metadata": {},
   "outputs": [],
   "source": [
    "# Running a Monte Carlo simulation to forecast 10 years cumulative returns\n",
    "# YOUR CODE HERE!"
   ]
  },
  {
   "cell_type": "code",
   "execution_count": null,
   "metadata": {},
   "outputs": [],
   "source": [
    "# Plot simulation outcomes\n",
    "# YOUR CODE HERE!"
   ]
  },
  {
   "cell_type": "code",
   "execution_count": null,
   "metadata": {},
   "outputs": [],
   "source": [
    "# Plot probability distribution and confidence intervals\n",
    "# YOUR CODE HERE!"
   ]
  },
  {
   "cell_type": "code",
   "execution_count": null,
   "metadata": {},
   "outputs": [],
   "source": [
    "# Fetch summary statistics from the Monte Carlo simulation results\n",
    "# YOUR CODE HERE!\n",
    "\n",
    "# Print summary statistics\n",
    "# YOUR CODE HERE!"
   ]
  },
  {
   "cell_type": "code",
   "execution_count": null,
   "metadata": {},
   "outputs": [],
   "source": [
    "# Set initial investment\n",
    "# YOUR CODE HERE!\n",
    "\n",
    "# Use the lower and upper `95%` confidence intervals to calculate the range of the possible outcomes of our $60,000\n",
    "# YOUR CODE HERE!\n",
    "\n",
    "# Print results\n",
    "print(f\"There is a 95% chance that an initial investment of ${initial_investment} in the portfolio\"\n",
    "      f\" over the next 10 years will end within in the range of\"\n",
    "      f\" ${ci_lower_ten} and ${ci_upper_ten}\")"
   ]
  }
 ],
 "metadata": {
  "kernelspec": {
   "display_name": "Python 3",
   "language": "python",
   "name": "python3"
  },
  "language_info": {
   "codemirror_mode": {
    "name": "ipython",
    "version": 3
   },
   "file_extension": ".py",
   "mimetype": "text/x-python",
   "name": "python",
   "nbconvert_exporter": "python",
   "pygments_lexer": "ipython3",
   "version": "3.7.9"
  }
 },
 "nbformat": 4,
 "nbformat_minor": 4
}
